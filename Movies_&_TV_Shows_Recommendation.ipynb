{
 "cells": [
  {
   "cell_type": "markdown",
   "metadata": {},
   "source": [
    "# Imports"
   ]
  },
  {
   "cell_type": "code",
   "execution_count": null,
   "metadata": {},
   "outputs": [],
   "source": [
    "import numpy as np\n",
    "import pandas as pd \n",
    "import datetime as dt\n",
    "from sklearn.feature_extraction.text import CountVectorizer\n",
    "from sklearn.metrics.pairwise import cosine_similarity"
   ]
  },
  {
   "cell_type": "markdown",
   "metadata": {},
   "source": [
    "# Loading the dataset"
   ]
  },
  {
   "cell_type": "code",
   "execution_count": null,
   "metadata": {},
   "outputs": [],
   "source": [
    "def loader (excel) :\n",
    "    \n",
    "    df = pd.DataFrame(pd.read_excel(excel))\n",
    "    \n",
    "    df = df.drop([\"Unnamed: 0\",\"date_added\"], axis = 1)\n",
    "    \n",
    "    return df\n",
    "\n",
    "streaming_content = loader('streaming_content.xlsx')"
   ]
  },
  {
   "cell_type": "markdown",
   "metadata": {},
   "source": [
    "# Customization (optional)"
   ]
  },
  {
   "cell_type": "markdown",
   "metadata": {},
   "source": [
    "### Platforms"
   ]
  },
  {
   "cell_type": "markdown",
   "metadata": {},
   "source": [
    "Possible answers :\n",
    "\n",
    "Netflix, Disney +, Prime Video, Hulu, all."
   ]
  },
  {
   "cell_type": "code",
   "execution_count": null,
   "metadata": {},
   "outputs": [],
   "source": [
    "filter_platform = str(input(\"Do you want recommendations based on all the platforms ? : \"))\n",
    "\n",
    "list_platform = []\n",
    "\n",
    "if filter_platform == 'no' :\n",
    "    \n",
    "    ptf_number = int(input(\"Number of non desired platforms ? : \"))\n",
    "    \n",
    "    for i in range(0,ptf_number) :\n",
    "        \n",
    "        platform_i = str(input(\"Non desired platform : \"))\n",
    "        \n",
    "        list_platform.append(platform_i)"
   ]
  },
  {
   "cell_type": "markdown",
   "metadata": {},
   "source": [
    "### Rating IMDb"
   ]
  },
  {
   "cell_type": "markdown",
   "metadata": {},
   "source": [
    "Secondly, what is the minimum grade on IMDb the movie or the TV show must have ? (Data not available for all the dataset) ? :\n",
    "\n",
    "0.1 to 10, float number granted (0 means that the IMDb rating is not a relevant feature).\n",
    "\n",
    "--------------------------\n",
    "\n",
    "Thirdly, what is the minimum of IMDb reviews the movie or the TV show must have ? :\n",
    "\n",
    "No limitation (0 means that the IMDb rating is not a relevant feature)."
   ]
  },
  {
   "cell_type": "code",
   "execution_count": null,
   "metadata": {},
   "outputs": [],
   "source": [
    "rating = float(input(\"Minimum rating on IMDb ? : \"))\n",
    "\n",
    "rewiews = int(input(\"Minimum number of reviews ? : \"))"
   ]
  },
  {
   "cell_type": "markdown",
   "metadata": {},
   "source": [
    "### Country"
   ]
  },
  {
   "cell_type": "markdown",
   "metadata": {},
   "source": [
    "Please select a country, if you have no preference, please enter 0. "
   ]
  },
  {
   "cell_type": "code",
   "execution_count": null,
   "metadata": {},
   "outputs": [],
   "source": [
    "country = str(input(\"Selected country : \"))"
   ]
  },
  {
   "cell_type": "markdown",
   "metadata": {},
   "source": [
    "### Release year"
   ]
  },
  {
   "cell_type": "markdown",
   "metadata": {},
   "source": [
    "Please select a year and precise if you want the shows of this year or the shows of this year and the folowing ones (equal vs minimum). \n",
    "\n",
    "Enter 0 in one or both categories if year is not an important feature for you. "
   ]
  },
  {
   "cell_type": "code",
   "execution_count": null,
   "metadata": {
    "scrolled": true
   },
   "outputs": [],
   "source": [
    "year = int(input(\"Enter a release year : \"))\n",
    "quality = str(input(\"Show of the year ? Minimum year of release ? : \"))"
   ]
  },
  {
   "cell_type": "markdown",
   "metadata": {},
   "source": [
    "### Type"
   ]
  },
  {
   "cell_type": "markdown",
   "metadata": {},
   "source": [
    "Do you want recommendations for TV Show or for Movies ? (tvshow, movie, all)"
   ]
  },
  {
   "cell_type": "code",
   "execution_count": null,
   "metadata": {
    "scrolled": true
   },
   "outputs": [],
   "source": [
    "show = str(input(\"TV Show, Movie or all : \"))"
   ]
  },
  {
   "cell_type": "markdown",
   "metadata": {},
   "source": [
    "\n",
    "### Classification"
   ]
  },
  {
   "cell_type": "markdown",
   "metadata": {},
   "source": [
    "For this algorithm, we use a simplified version of the American rating :\n",
    "\n",
    "Not Rated, All ages, 7+, PG-13, 16+, R-Rated"
   ]
  },
  {
   "cell_type": "code",
   "execution_count": null,
   "metadata": {},
   "outputs": [],
   "source": [
    "list_filter_classification = []\n",
    "filter_classification = str(input(\"Do you want any filter ? : \"))\n",
    "\n",
    "if filter_classification == \"yes\":\n",
    "    \n",
    "    number_filter = int(input(\"Number of classification filter : \"))\n",
    "    \n",
    "    for i in range(0,number_filter): \n",
    "        \n",
    "        class_i = str(input(\"Non-Desired classification : \"))\n",
    "        \n",
    "        list_filter_classification.append(class_i)"
   ]
  },
  {
   "cell_type": "markdown",
   "metadata": {},
   "source": [
    "### Category"
   ]
  },
  {
   "cell_type": "markdown",
   "metadata": {},
   "source": [
    "Please enter how many filter in category do you want to apply (negative filter). \n",
    "\n",
    "Please enter the filter with the first letter in capital. "
   ]
  },
  {
   "cell_type": "code",
   "execution_count": null,
   "metadata": {
    "scrolled": true
   },
   "outputs": [],
   "source": [
    "filter_number = int(input(\"Number of category filter : \"))\n",
    "list_filter_category = []\n",
    "\n",
    "for i in range(0, filter_number) :\n",
    "    \n",
    "    filter_i = str(input(\"Enter a non desired category : \"))\n",
    "    \n",
    "    list_filter_category.append(filter_i)"
   ]
  },
  {
   "cell_type": "markdown",
   "metadata": {},
   "source": [
    "# Content Based Recommendation Algorithm"
   ]
  },
  {
   "cell_type": "markdown",
   "metadata": {},
   "source": [
    "### Data Cleaning"
   ]
  },
  {
   "cell_type": "markdown",
   "metadata": {},
   "source": [
    "Bias ! Categories are not similar from platform to another, adding categories to the \"soup\" (bags of words) could orient the decision : most of the recommendations will be based on one platform. "
   ]
  },
  {
   "cell_type": "code",
   "execution_count": null,
   "metadata": {},
   "outputs": [],
   "source": [
    "#features = [\"title\",\"director\",\"cast\",\"listed_in\",\"description\"]\n",
    "features = [\"title\",\"director\",\"cast\",\"description\"]\n",
    "#features = [\"title\",\"description\"]\n",
    "#features = [\"title\",\"director\",\"description\"]"
   ]
  },
  {
   "cell_type": "code",
   "execution_count": null,
   "metadata": {},
   "outputs": [],
   "source": [
    "reco_streaming = streaming_content[features]"
   ]
  },
  {
   "cell_type": "code",
   "execution_count": null,
   "metadata": {},
   "outputs": [],
   "source": [
    "def fillna(df) :\n",
    "    \n",
    "    return df.fillna(\" \")\n",
    "\n",
    "reco_streaming = fillna(reco_streaming)"
   ]
  },
  {
   "cell_type": "code",
   "execution_count": null,
   "metadata": {},
   "outputs": [],
   "source": [
    "def clean_data(col):\n",
    "        return str.lower(col.replace(\" \", \"\"))"
   ]
  },
  {
   "cell_type": "code",
   "execution_count": null,
   "metadata": {},
   "outputs": [],
   "source": [
    "def cleaner(df, feat) :\n",
    "    \n",
    "    for feature in feat:\n",
    "        df[feature] = df[feature].apply(clean_data)\n",
    "        \n",
    "    return df\n",
    "\n",
    "reco_streaming = cleaner(reco_streaming, features)"
   ]
  },
  {
   "cell_type": "markdown",
   "metadata": {},
   "source": [
    "### Creation of a soup "
   ]
  },
  {
   "cell_type": "markdown",
   "metadata": {},
   "source": [
    "Soup = bag of words, représentation du corpus => fusionner tous les mots pour récapituler un show et toutes les information dessus, les stop words seront supprimés. "
   ]
  },
  {
   "cell_type": "code",
   "execution_count": null,
   "metadata": {},
   "outputs": [],
   "source": [
    "def create_soup(df):\n",
    "    \n",
    "    #df[\"soup\"] = df['title']+ ' ' + df['director'] + ' ' + df['cast'] + ' ' +df['listed_in']+' '+ df['description']\n",
    "    df[\"soup\"] = df['title']+ ' ' + df['director'] + ' ' + df['cast'] + ' '+ df['description']\n",
    "    #df[\"soup\"] = df['title']+ ' ' + df['description']\n",
    "    #df[\"soup\"] = df['title']+ ' ' + df['director'] + ' '+ df['description']\n",
    "    return df\n",
    "\n",
    "reco_streaming = create_soup(reco_streaming)"
   ]
  },
  {
   "cell_type": "markdown",
   "metadata": {},
   "source": [
    "### Pre-processing"
   ]
  },
  {
   "cell_type": "code",
   "execution_count": null,
   "metadata": {},
   "outputs": [],
   "source": [
    "def pre_processing (df) :\n",
    "\n",
    "    count = CountVectorizer(stop_words='english')\n",
    "    count_matrix = count.fit_transform(df['soup'])\n",
    "\n",
    "    cos_sim = cosine_similarity(count_matrix, count_matrix)\n",
    "    \n",
    "    df = df.reset_index()\n",
    "    indices = pd.Series(df.index, index = df['title'])\n",
    "    \n",
    "    return df, cos_sim, indices\n",
    "\n",
    "reco_streaming, cosine_sim, index = pre_processing(reco_streaming)"
   ]
  },
  {
   "cell_type": "markdown",
   "metadata": {},
   "source": [
    "### Similarity"
   ]
  },
  {
   "cell_type": "code",
   "execution_count": null,
   "metadata": {},
   "outputs": [],
   "source": [
    "def similarity (title, cos_sim, idx, df1) :\n",
    "    \n",
    "    title=title.replace(' ','').lower()\n",
    "    idx = idx[title]\n",
    "    \n",
    "    # Get the pairwsie similarity scores of all movies with that movie\n",
    "    sim_scores = list(enumerate(cos_sim[idx]))\n",
    "    \n",
    "    # Sort the movies based on the similarity scores\n",
    "    sim_scores = sorted(sim_scores, key=lambda x: x[1], reverse=True)\n",
    "    \n",
    "    # Get the movie indices\n",
    "    movie_indices = [i[0] for i in sim_scores]\n",
    "    \n",
    "    return sim_scores\n",
    "\n",
    "simil = similarity(input('Enter a movie or a TV show name : '), cosine_sim, index, streaming_content)"
   ]
  },
  {
   "cell_type": "code",
   "execution_count": null,
   "metadata": {},
   "outputs": [],
   "source": [
    "def dataframe_simil(sim):\n",
    "    \n",
    "    df = pd.DataFrame(sim, columns = [\"index\",\"similarity\"])\n",
    "    \n",
    "    return df\n",
    "\n",
    "similarity = dataframe_simil(simil)"
   ]
  },
  {
   "cell_type": "markdown",
   "metadata": {},
   "source": [
    "### Filtering dataset"
   ]
  },
  {
   "cell_type": "code",
   "execution_count": null,
   "metadata": {
    "scrolled": true
   },
   "outputs": [],
   "source": [
    "def new_set(xlsx, df1) :\n",
    "    \n",
    "    df = loader(xlsx)\n",
    "    \n",
    "    df = df.reset_index()\n",
    "    \n",
    "    #Merging similarities\n",
    "    \n",
    "    df = df.merge(df1, how = 'left', left_on = 'index', right_on = 'index')\n",
    "    \n",
    "    return df\n",
    "\n",
    "recommendation = new_set(\"streaming_content.xlsx\", similarity)"
   ]
  },
  {
   "cell_type": "code",
   "execution_count": null,
   "metadata": {},
   "outputs": [],
   "source": [
    "def filtering_plateforms (df, list_ptf) :\n",
    "    \n",
    "    for i in range(0,len(list_ptf)) :\n",
    "        \n",
    "        df = df[df[\"origin\"]!= list_ptf[i]]\n",
    "        \n",
    "    return df\n",
    "\n",
    "recommendation = filtering_plateforms(recommendation, list_platform)"
   ]
  },
  {
   "cell_type": "code",
   "execution_count": null,
   "metadata": {},
   "outputs": [],
   "source": [
    "def filtering_imdb (df, rating, review) :\n",
    "    \n",
    "    if rating == 0 and review == 0 : \n",
    "        \n",
    "        df = df\n",
    "        \n",
    "    elif rating != 0 and review == 0 :\n",
    "        \n",
    "        df = df[df[\"averageRating\"] >= rating]\n",
    "        \n",
    "    elif rating == 0 and review != 0 :\n",
    "        \n",
    "        df = df[df[\"numVotes\"] >= review]\n",
    "        \n",
    "    else :\n",
    "        \n",
    "        df = df[(df[\"averageRating\"] >= rating) & (df[\"numVotes\"] >= review)]\n",
    "        \n",
    "    return df\n",
    "\n",
    "recommendation = filtering_imdb(recommendation, rating, rewiews)"
   ]
  },
  {
   "cell_type": "code",
   "execution_count": null,
   "metadata": {},
   "outputs": [],
   "source": [
    "def filtering_country(df, cnt):\n",
    "    \n",
    "    if cnt == \"0\" :\n",
    "        \n",
    "        df = df \n",
    "    \n",
    "    else :\n",
    "        \n",
    "        df = df[df[\"country\"]==cnt]\n",
    "    \n",
    "    return df\n",
    "\n",
    "recommendation = filtering_country(recommendation, country)"
   ]
  },
  {
   "cell_type": "code",
   "execution_count": null,
   "metadata": {},
   "outputs": [],
   "source": [
    "def filtering_year (df, year, qual) :\n",
    "        \n",
    "    if (year != 0) and (qual == \"equal\") :\n",
    "        \n",
    "        df = df[df[\"release_year\"] == year]\n",
    "        \n",
    "    elif (year != 0) and (qual == \"minimum\") :\n",
    "        \n",
    "        df = df[df[\"release_year\"] >= year]\n",
    "        \n",
    "    else : \n",
    "        \n",
    "        df = df\n",
    "        \n",
    "    return df\n",
    "\n",
    "recommendation = filtering_year(recommendation, year, quality)"
   ]
  },
  {
   "cell_type": "code",
   "execution_count": null,
   "metadata": {},
   "outputs": [],
   "source": [
    "def filtering_type (df, shw):\n",
    "    \n",
    "    if shw == \"tvshow\":\n",
    "        \n",
    "        df = df[df[\"type\"] == \"TV Show\"]\n",
    "        \n",
    "    elif shw == \"movie\":\n",
    "        \n",
    "        df = df[df[\"type\"] == \"Movie\"]\n",
    "        \n",
    "    else :\n",
    "        \n",
    "        df = df\n",
    "        \n",
    "    return df\n",
    "\n",
    "recommendation = filtering_type(recommendation, show)"
   ]
  },
  {
   "cell_type": "code",
   "execution_count": null,
   "metadata": {},
   "outputs": [],
   "source": [
    "def filtering_classification (df, list_classif) :\n",
    "    \n",
    "    for i in range(0,len(list_classif)) :\n",
    "        \n",
    "        df = df[df[\"rating\"]!= list_classif[i]]\n",
    "        \n",
    "    return df\n",
    "\n",
    "recommendation = filtering_classification(recommendation, list_filter_classification)"
   ]
  },
  {
   "cell_type": "code",
   "execution_count": null,
   "metadata": {},
   "outputs": [],
   "source": [
    "def filtering_category (df, filter_list) :\n",
    "    \n",
    "    for i in range(0,len(filter_list)) :\n",
    "        \n",
    "        df = df[~df[\"listed_in\"].str.contains(filter_list[i])]\n",
    "        \n",
    "    return df\n",
    "\n",
    "recommendation = filtering_category(recommendation, list_filter_category)"
   ]
  },
  {
   "cell_type": "markdown",
   "metadata": {},
   "source": [
    "### Recommendation"
   ]
  },
  {
   "cell_type": "code",
   "execution_count": null,
   "metadata": {},
   "outputs": [],
   "source": [
    "def get_recommendations(df1) :\n",
    "    \n",
    "    df = df1.sort_values(by = [\"similarity\"], ascending = False)\n",
    "    \n",
    "    df = df[[\"title\",\"description\", \"averageRating\",\"origin\",\"type\"]].head(11)\n",
    "    \n",
    "    df.drop(df.index[:1], inplace = True)\n",
    "    \n",
    "    return df"
   ]
  },
  {
   "cell_type": "code",
   "execution_count": null,
   "metadata": {},
   "outputs": [],
   "source": [
    "final_recommendation = get_recommendations(recommendation)"
   ]
  },
  {
   "cell_type": "code",
   "execution_count": null,
   "metadata": {},
   "outputs": [],
   "source": [
    "final_recommendation"
   ]
  },
  {
   "cell_type": "markdown",
   "metadata": {},
   "source": [
    "# Content Based Algorithm : Features and New"
   ]
  },
  {
   "cell_type": "markdown",
   "metadata": {},
   "source": [
    "We will add a recency criteria and filter all the result thanks to it. "
   ]
  },
  {
   "cell_type": "markdown",
   "metadata": {},
   "source": [
    "### New filtering"
   ]
  },
  {
   "cell_type": "markdown",
   "metadata": {},
   "source": [
    "How long does it take for a film to become old? (value has to be put in days)"
   ]
  },
  {
   "cell_type": "code",
   "execution_count": null,
   "metadata": {},
   "outputs": [],
   "source": [
    "days_new = int(input(\"How long does it take for a film to become old ? : \"))\n",
    "\n",
    "date_new = dt.datetime.now()-dt.timedelta(days = days_new)"
   ]
  },
  {
   "cell_type": "markdown",
   "metadata": {},
   "source": [
    "### Filtering "
   ]
  },
  {
   "cell_type": "code",
   "execution_count": null,
   "metadata": {},
   "outputs": [],
   "source": [
    "def loader_new(excel) :\n",
    "    \n",
    "    df = pd.DataFrame(pd.read_excel(excel))\n",
    "    \n",
    "    df = df.drop([\"Unnamed: 0\"], axis = 1)\n",
    "    \n",
    "    return df"
   ]
  },
  {
   "cell_type": "code",
   "execution_count": null,
   "metadata": {},
   "outputs": [],
   "source": [
    "def new_set_new(xlsx, df1) :\n",
    "    \n",
    "    df = loader_new(xlsx)\n",
    "    \n",
    "    df = df.reset_index()\n",
    "    \n",
    "    #Merging similarities\n",
    "    \n",
    "    df = df.merge(df1, how = 'left', left_on = 'index', right_on = 'index')\n",
    "    \n",
    "    return df\n",
    "\n",
    "recommendation_new = new_set_new(\"streaming_content.xlsx\", similarity)"
   ]
  },
  {
   "cell_type": "code",
   "execution_count": null,
   "metadata": {},
   "outputs": [],
   "source": [
    "def new_filtering (df, date) :\n",
    "    \n",
    "    df = df[df[\"date_added\"] >= date]\n",
    "    \n",
    "    return df\n",
    "\n",
    "recommendation_new = new_filtering(recommendation_new, date_new)"
   ]
  },
  {
   "cell_type": "markdown",
   "metadata": {},
   "source": [
    "### Recommendation"
   ]
  },
  {
   "cell_type": "code",
   "execution_count": null,
   "metadata": {},
   "outputs": [],
   "source": [
    "def get_recommendations_new(df1) :\n",
    "    \n",
    "    df = df1.sort_values(by = [\"similarity\"], ascending = False)\n",
    "    \n",
    "    df = df[[\"title\",\"description\", \"averageRating\",\"origin\",\"type\"]].head(6)\n",
    "    \n",
    "    df.drop(df.index[:1], inplace = True)\n",
    "    \n",
    "    return df\n",
    "\n",
    "final_new_recommendation = get_recommendations_new(recommendation_new)"
   ]
  },
  {
   "cell_type": "code",
   "execution_count": null,
   "metadata": {},
   "outputs": [],
   "source": [
    "final_new_recommendation"
   ]
  },
  {
   "cell_type": "code",
   "execution_count": null,
   "metadata": {},
   "outputs": [],
   "source": []
  },
  {
   "cell_type": "code",
   "execution_count": null,
   "metadata": {},
   "outputs": [],
   "source": []
  }
 ],
 "metadata": {
  "kernelspec": {
   "display_name": "Python 3 (ipykernel)",
   "language": "python",
   "name": "python3"
  },
  "language_info": {
   "codemirror_mode": {
    "name": "ipython",
    "version": 3
   },
   "file_extension": ".py",
   "mimetype": "text/x-python",
   "name": "python",
   "nbconvert_exporter": "python",
   "pygments_lexer": "ipython3",
   "version": "3.9.7"
  }
 },
 "nbformat": 4,
 "nbformat_minor": 4
}
