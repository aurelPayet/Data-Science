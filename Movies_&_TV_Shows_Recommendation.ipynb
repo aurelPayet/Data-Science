{
 "cells": [
  {
   "cell_type": "markdown",
   "metadata": {},
   "source": [
    "# Introduction"
   ]
  },
  {
   "cell_type": "markdown",
   "metadata": {},
   "source": [
    "A rédiger"
   ]
  },
  {
   "cell_type": "markdown",
   "metadata": {},
   "source": [
    "# Imports"
   ]
  },
  {
   "cell_type": "code",
   "execution_count": 1,
   "metadata": {},
   "outputs": [],
   "source": [
    "import numpy as np\n",
    "import pandas as pd \n",
    "import datetime as dt\n",
    "from sklearn.feature_extraction.text import CountVectorizer\n",
    "from sklearn.metrics.pairwise import cosine_similarity"
   ]
  },
  {
   "cell_type": "markdown",
   "metadata": {},
   "source": [
    "# Loading the dataset"
   ]
  },
  {
   "cell_type": "code",
   "execution_count": 2,
   "metadata": {},
   "outputs": [],
   "source": [
    "def loader (excel) :\n",
    "    \n",
    "    df = pd.DataFrame(pd.read_excel(excel))\n",
    "    \n",
    "    df = df.drop([\"Unnamed: 0\",\"date_added\"], axis = 1)\n",
    "    \n",
    "    return df\n",
    "\n",
    "streaming_content = loader('streaming_content.xlsx')"
   ]
  },
  {
   "cell_type": "markdown",
   "metadata": {},
   "source": [
    "# Customization (optional)"
   ]
  },
  {
   "cell_type": "markdown",
   "metadata": {},
   "source": [
    "A rédiger"
   ]
  },
  {
   "cell_type": "markdown",
   "metadata": {},
   "source": [
    "### Platforms"
   ]
  },
  {
   "cell_type": "markdown",
   "metadata": {},
   "source": [
    "A remettre en forme + photo\n",
    "\n",
    "First, in which platforms do you want to obtain recommendations ? Netflix, Disney +, Amazon or all ?\n",
    "\n",
    "Possible answers :\n",
    "\n",
    "Netflix, Disney +, Prime Video, Hulu, all."
   ]
  },
  {
   "cell_type": "code",
   "execution_count": 3,
   "metadata": {},
   "outputs": [
    {
     "name": "stdout",
     "output_type": "stream",
     "text": [
      "Do you want recommendations based on all the platforms ? : yes\n"
     ]
    }
   ],
   "source": [
    "filter_platform = str(input(\"Do you want recommendations based on all the platforms ? : \"))\n",
    "\n",
    "list_platform = []\n",
    "\n",
    "if filter_platform == 'no' :\n",
    "    \n",
    "    ptf_number = int(input(\"Number of non desired platforms ? : \"))\n",
    "    \n",
    "    for i in range(0,ptf_number) :\n",
    "        \n",
    "        platform_i = str(input(\"Non desired platform : \"))\n",
    "        \n",
    "        list_platform.append(platform_i)"
   ]
  },
  {
   "cell_type": "markdown",
   "metadata": {},
   "source": [
    "### Rating IMDb"
   ]
  },
  {
   "cell_type": "markdown",
   "metadata": {},
   "source": [
    "A remettre en forme + photo\n",
    "\n",
    "Expliquer ce qu'est IMDb\n",
    "\n",
    "Secondly, what is the minimum grade on IMDb the movie or the TV show must have ? (Data not available for all the dataset) ? :\n",
    "\n",
    "0.1 to 10, float number granted (0 means that the IMDb rating is not a relevant feature).\n",
    "\n",
    "--------------------------\n",
    "\n",
    "Thirdly, what is the minimum of IMDb reviews the movie or the TV show must have ? :\n",
    "\n",
    "No limitation (0 means that the IMDb rating is not a relevant feature)."
   ]
  },
  {
   "cell_type": "code",
   "execution_count": 4,
   "metadata": {},
   "outputs": [
    {
     "name": "stdout",
     "output_type": "stream",
     "text": [
      "Minimum rating on IMDb ? : 0\n",
      "Minimum number of reviews ? : 0\n"
     ]
    }
   ],
   "source": [
    "rating = float(input(\"Minimum rating on IMDb ? : \"))\n",
    "\n",
    "rewiews = int(input(\"Minimum number of reviews ? : \"))"
   ]
  },
  {
   "cell_type": "markdown",
   "metadata": {},
   "source": [
    "### Country"
   ]
  },
  {
   "cell_type": "markdown",
   "metadata": {},
   "source": [
    "A remettre en forme + photo\n",
    "\n",
    "Please select a country, if you have no preference, please enter 0. "
   ]
  },
  {
   "cell_type": "code",
   "execution_count": 5,
   "metadata": {},
   "outputs": [
    {
     "name": "stdout",
     "output_type": "stream",
     "text": [
      "Selected country : 0\n"
     ]
    }
   ],
   "source": [
    "country = str(input(\"Selected country : \"))"
   ]
  },
  {
   "cell_type": "markdown",
   "metadata": {},
   "source": [
    "### Release year"
   ]
  },
  {
   "cell_type": "markdown",
   "metadata": {},
   "source": [
    "A remettre en forme + photo ? \n",
    "\n",
    "Please select a year and precise if you want the shows of this year or the shows of this year and the folowing ones (equal vs minimum). \n",
    "\n",
    "Enter 0 in one or both categories if year is not an important feature for you. "
   ]
  },
  {
   "cell_type": "code",
   "execution_count": 6,
   "metadata": {
    "scrolled": true
   },
   "outputs": [
    {
     "name": "stdout",
     "output_type": "stream",
     "text": [
      "Enter a release year : 2010\n",
      "Show of the year ? Minimum year of release ? : minimum\n"
     ]
    }
   ],
   "source": [
    "year = int(input(\"Enter a release year : \"))\n",
    "quality = str(input(\"Show of the year ? Minimum year of release ? : \"))"
   ]
  },
  {
   "cell_type": "markdown",
   "metadata": {},
   "source": [
    "### Type"
   ]
  },
  {
   "cell_type": "markdown",
   "metadata": {},
   "source": [
    "A remettre en forme + photo\n",
    "\n",
    "Do you want recommendations for TV Show or for Movies ? (tvshow, movie, all)"
   ]
  },
  {
   "cell_type": "code",
   "execution_count": 7,
   "metadata": {
    "scrolled": true
   },
   "outputs": [
    {
     "name": "stdout",
     "output_type": "stream",
     "text": [
      "TV Show, Movie or all : all\n"
     ]
    }
   ],
   "source": [
    "show = str(input(\"TV Show, Movie or all : \"))"
   ]
  },
  {
   "cell_type": "markdown",
   "metadata": {},
   "source": [
    "\n",
    "### Classification"
   ]
  },
  {
   "cell_type": "markdown",
   "metadata": {},
   "source": [
    "A remettre en forme + photo ? \n",
    "\n",
    "For this algorithm, we use a simplified version of the American rating :\n",
    "\n",
    "Not Rated, All ages, 7+, PG-13, 16+, R-Rated"
   ]
  },
  {
   "cell_type": "code",
   "execution_count": 8,
   "metadata": {},
   "outputs": [
    {
     "name": "stdout",
     "output_type": "stream",
     "text": [
      "Do you want any filter ? : yes\n",
      "Number of classification filter : 2\n",
      "Non-Desired classification : All ages\n",
      "Non-Desired classification : 7+\n"
     ]
    }
   ],
   "source": [
    "list_filter_classification = []\n",
    "filter_classification = str(input(\"Do you want any filter ? : \"))\n",
    "\n",
    "if filter_classification == \"yes\":\n",
    "    \n",
    "    number_filter = int(input(\"Number of classification filter : \"))\n",
    "    \n",
    "    for i in range(0,number_filter): \n",
    "        \n",
    "        class_i = str(input(\"Non-Desired classification : \"))\n",
    "        \n",
    "        list_filter_classification.append(class_i)"
   ]
  },
  {
   "cell_type": "markdown",
   "metadata": {},
   "source": [
    "### Category"
   ]
  },
  {
   "cell_type": "markdown",
   "metadata": {},
   "source": [
    "A remettre en forme + mettre une image + lien vers liste de catégorie\n",
    "\n",
    "Please enter how many filter in category do you want to apply (negative filter). \n",
    "\n",
    "Please enter the filter with the first letter in capital. "
   ]
  },
  {
   "cell_type": "code",
   "execution_count": 9,
   "metadata": {
    "scrolled": true
   },
   "outputs": [
    {
     "name": "stdout",
     "output_type": "stream",
     "text": [
      "Number of category filter : 2\n",
      "Enter a non desired category : Young\n",
      "Enter a non desired category : kid\n"
     ]
    }
   ],
   "source": [
    "filter_number = int(input(\"Number of category filter : \"))\n",
    "list_filter_category = []\n",
    "\n",
    "for i in range(0, filter_number) :\n",
    "    \n",
    "    filter_i = str(input(\"Enter a non desired category : \"))\n",
    "    \n",
    "    list_filter_category.append(filter_i)"
   ]
  },
  {
   "cell_type": "markdown",
   "metadata": {},
   "source": [
    "# Content Based Recommendation Algorithm"
   ]
  },
  {
   "cell_type": "markdown",
   "metadata": {},
   "source": [
    "Expliquer le principe du content based et du cosinus de similarité.\n",
    "\n",
    "But rentrer le nom d'une série ou d'un film et rechercher le contenu le plus similaire en fonction du dataset d'entrée. "
   ]
  },
  {
   "cell_type": "markdown",
   "metadata": {},
   "source": [
    "### Data Cleaning"
   ]
  },
  {
   "cell_type": "markdown",
   "metadata": {},
   "source": [
    "Biais => si categorie proposera automatiquement plus d'une plateforme (perte diversité) car catégorie propre à chaque plateforme. "
   ]
  },
  {
   "cell_type": "code",
   "execution_count": 10,
   "metadata": {},
   "outputs": [],
   "source": [
    "#features = [\"title\",\"director\",\"cast\",\"listed_in\",\"description\"]\n",
    "features = [\"title\",\"director\",\"cast\",\"description\"]\n",
    "#features = [\"title\",\"description\"]\n",
    "#features = [\"title\",\"director\",\"description\"]"
   ]
  },
  {
   "cell_type": "code",
   "execution_count": 11,
   "metadata": {},
   "outputs": [],
   "source": [
    "reco_streaming = streaming_content[features]"
   ]
  },
  {
   "cell_type": "code",
   "execution_count": 12,
   "metadata": {},
   "outputs": [],
   "source": [
    "def fillna(df) :\n",
    "    \n",
    "    return df.fillna(\" \")\n",
    "\n",
    "reco_streaming = fillna(reco_streaming)"
   ]
  },
  {
   "cell_type": "code",
   "execution_count": 13,
   "metadata": {},
   "outputs": [],
   "source": [
    "def clean_data(col):\n",
    "        return str.lower(col.replace(\" \", \"\"))"
   ]
  },
  {
   "cell_type": "markdown",
   "metadata": {},
   "source": [
    "\n",
    "Tout mettre en minuscule et supprimer les espaces, uniformisation des données textuelles."
   ]
  },
  {
   "cell_type": "code",
   "execution_count": 14,
   "metadata": {},
   "outputs": [],
   "source": [
    "def cleaner(df, feat) :\n",
    "    \n",
    "    for feature in feat:\n",
    "        df[feature] = df[feature].apply(clean_data)\n",
    "        \n",
    "    return df\n",
    "\n",
    "reco_streaming = cleaner(reco_streaming, features)"
   ]
  },
  {
   "cell_type": "markdown",
   "metadata": {},
   "source": [
    "### Creation of a soup "
   ]
  },
  {
   "cell_type": "markdown",
   "metadata": {},
   "source": [
    "Soup = bag of words, représentation du corpus => fusionner tous les mots pour récapituler un show et toutes les information dessus, les stop words seront supprimés. "
   ]
  },
  {
   "cell_type": "code",
   "execution_count": 15,
   "metadata": {},
   "outputs": [],
   "source": [
    "def create_soup(df):\n",
    "    \n",
    "    #df[\"soup\"] = df['title']+ ' ' + df['director'] + ' ' + df['cast'] + ' ' +df['listed_in']+' '+ df['description']\n",
    "    df[\"soup\"] = df['title']+ ' ' + df['director'] + ' ' + df['cast'] + ' '+ df['description']\n",
    "    #df[\"soup\"] = df['title']+ ' ' + df['description']\n",
    "    #df[\"soup\"] = df['title']+ ' ' + df['director'] + ' '+ df['description']\n",
    "    return df\n",
    "\n",
    "reco_streaming = create_soup(reco_streaming)"
   ]
  },
  {
   "cell_type": "markdown",
   "metadata": {},
   "source": [
    "### Pre-processing"
   ]
  },
  {
   "cell_type": "code",
   "execution_count": 16,
   "metadata": {},
   "outputs": [],
   "source": [
    "def pre_processing (df) :\n",
    "\n",
    "    count = CountVectorizer(stop_words='english')\n",
    "    count_matrix = count.fit_transform(df['soup'])\n",
    "\n",
    "    cos_sim = cosine_similarity(count_matrix, count_matrix)\n",
    "    \n",
    "    df = df.reset_index()\n",
    "    indices = pd.Series(df.index, index = df['title'])\n",
    "    \n",
    "    return df, cos_sim, indices\n",
    "\n",
    "reco_streaming, cosine_sim, index = pre_processing(reco_streaming)"
   ]
  },
  {
   "cell_type": "markdown",
   "metadata": {},
   "source": [
    "### Similarity"
   ]
  },
  {
   "cell_type": "markdown",
   "metadata": {},
   "source": [
    "Faire schéma explicatif : sortie cosine sim donne pour un index i la similitude selon les critères les colonnes sont les index j. \n",
    "\n",
    "Quand on rentre un titre, il est uniformisé et un résultat en sortie est fourni avec une recherche par index dans le cosine sim. \n",
    "\n",
    "A la fin on fait remonter les informations clés en matchant avec le dataframe de base."
   ]
  },
  {
   "cell_type": "code",
   "execution_count": 18,
   "metadata": {},
   "outputs": [
    {
     "name": "stdout",
     "output_type": "stream",
     "text": [
      "Enter a movie or a TV show name : Django Unchained\n"
     ]
    }
   ],
   "source": [
    "def similarity (title, cos_sim, idx, df1) :\n",
    "    \n",
    "    title=title.replace(' ','').lower()\n",
    "    idx = idx[title]\n",
    "    \n",
    "    # Get the pairwsie similarity scores of all movies with that movie\n",
    "    sim_scores = list(enumerate(cos_sim[idx]))\n",
    "    \n",
    "    # Sort the movies based on the similarity scores\n",
    "    sim_scores = sorted(sim_scores, key=lambda x: x[1], reverse=True)\n",
    "    \n",
    "    # Get the movie indices\n",
    "    movie_indices = [i[0] for i in sim_scores]\n",
    "    \n",
    "    return sim_scores\n",
    "\n",
    "simil = similarity(input('Enter a movie or a TV show name : '), cosine_sim, index, streaming_content)"
   ]
  },
  {
   "cell_type": "code",
   "execution_count": 19,
   "metadata": {},
   "outputs": [],
   "source": [
    "def dataframe_simil(sim):\n",
    "    \n",
    "    df = pd.DataFrame(sim, columns = [\"index\",\"similarity\"])\n",
    "    \n",
    "    return df\n",
    "\n",
    "similarity = dataframe_simil(simil)"
   ]
  },
  {
   "cell_type": "markdown",
   "metadata": {},
   "source": [
    "### Filtering dataset"
   ]
  },
  {
   "cell_type": "code",
   "execution_count": 20,
   "metadata": {
    "scrolled": true
   },
   "outputs": [],
   "source": [
    "def new_set(xlsx, df1) :\n",
    "    \n",
    "    df = loader(xlsx)\n",
    "    \n",
    "    df = df.reset_index()\n",
    "    \n",
    "    #Merging similarities\n",
    "    \n",
    "    df = df.merge(df1, how = 'left', left_on = 'index', right_on = 'index')\n",
    "    \n",
    "    return df\n",
    "\n",
    "recommendation = new_set(\"streaming_content.xlsx\", similarity)"
   ]
  },
  {
   "cell_type": "code",
   "execution_count": 21,
   "metadata": {},
   "outputs": [],
   "source": [
    "def filtering_plateforms (df, list_ptf) :\n",
    "    \n",
    "    for i in range(0,len(list_ptf)) :\n",
    "        \n",
    "        df = df[df[\"origin\"]!= list_ptf[i]]\n",
    "        \n",
    "    return df\n",
    "\n",
    "recommendation = filtering_plateforms(recommendation, list_platform)"
   ]
  },
  {
   "cell_type": "code",
   "execution_count": 22,
   "metadata": {},
   "outputs": [],
   "source": [
    "def filtering_imdb (df, rating, review) :\n",
    "    \n",
    "    if rating == 0 and review == 0 : \n",
    "        \n",
    "        df = df\n",
    "        \n",
    "    elif rating != 0 and review == 0 :\n",
    "        \n",
    "        df = df[df[\"averageRating\"] >= rating]\n",
    "        \n",
    "    elif rating == 0 and review != 0 :\n",
    "        \n",
    "        df = df[df[\"numVotes\"] >= review]\n",
    "        \n",
    "    else :\n",
    "        \n",
    "        df = df[(df[\"averageRating\"] >= rating) & (df[\"numVotes\"] >= review)]\n",
    "        \n",
    "    return df\n",
    "\n",
    "recommendation = filtering_imdb(recommendation, rating, rewiews)"
   ]
  },
  {
   "cell_type": "code",
   "execution_count": 23,
   "metadata": {},
   "outputs": [],
   "source": [
    "def filtering_country(df, cnt):\n",
    "    \n",
    "    if cnt == \"0\" :\n",
    "        \n",
    "        df = df \n",
    "    \n",
    "    else :\n",
    "        \n",
    "        df = df[df[\"country\"]==cnt]\n",
    "    \n",
    "    return df\n",
    "\n",
    "recommendation = filtering_country(recommendation, country)"
   ]
  },
  {
   "cell_type": "code",
   "execution_count": 24,
   "metadata": {},
   "outputs": [],
   "source": [
    "def filtering_year (df, year, qual) :\n",
    "        \n",
    "    if (year != 0) and (qual == \"equal\") :\n",
    "        \n",
    "        df = df[df[\"release_year\"] == year]\n",
    "        \n",
    "    elif (year != 0) and (qual == \"minimum\") :\n",
    "        \n",
    "        df = df[df[\"release_year\"] >= year]\n",
    "        \n",
    "    else : \n",
    "        \n",
    "        df = df\n",
    "        \n",
    "    return df\n",
    "\n",
    "recommendation = filtering_year(recommendation, year, quality)"
   ]
  },
  {
   "cell_type": "code",
   "execution_count": 25,
   "metadata": {},
   "outputs": [],
   "source": [
    "def filtering_type (df, shw):\n",
    "    \n",
    "    if shw == \"tvshow\":\n",
    "        \n",
    "        df = df[df[\"type\"] == \"TV Show\"]\n",
    "        \n",
    "    elif shw == \"movie\":\n",
    "        \n",
    "        df = df[df[\"type\"] == \"Movie\"]\n",
    "        \n",
    "    else :\n",
    "        \n",
    "        df = df\n",
    "        \n",
    "    return df\n",
    "\n",
    "recommendation = filtering_type(recommendation, show)"
   ]
  },
  {
   "cell_type": "code",
   "execution_count": 26,
   "metadata": {},
   "outputs": [],
   "source": [
    "def filtering_classification (df, list_classif) :\n",
    "    \n",
    "    for i in range(0,len(list_classif)) :\n",
    "        \n",
    "        df = df[df[\"rating\"]!= list_classif[i]]\n",
    "        \n",
    "    return df\n",
    "\n",
    "recommendation = filtering_classification(recommendation, list_filter_classification)"
   ]
  },
  {
   "cell_type": "code",
   "execution_count": 27,
   "metadata": {},
   "outputs": [],
   "source": [
    "def filtering_category (df, filter_list) :\n",
    "    \n",
    "    for i in range(0,len(filter_list)) :\n",
    "        \n",
    "        df = df[~df[\"listed_in\"].str.contains(filter_list[i])]\n",
    "        \n",
    "    return df\n",
    "\n",
    "recommendation = filtering_category(recommendation, list_filter_category)"
   ]
  },
  {
   "cell_type": "markdown",
   "metadata": {},
   "source": [
    "### Recommendation"
   ]
  },
  {
   "cell_type": "code",
   "execution_count": 28,
   "metadata": {},
   "outputs": [],
   "source": [
    "def get_recommendations(df1) :\n",
    "    \n",
    "    df = df1.sort_values(by = [\"similarity\"], ascending = False)\n",
    "    \n",
    "    df = df[[\"title\",\"description\", \"averageRating\",\"origin\",\"type\"]].head(11)\n",
    "    \n",
    "    df.drop(df.index[:1], inplace = True)\n",
    "    \n",
    "    return df"
   ]
  },
  {
   "cell_type": "code",
   "execution_count": 29,
   "metadata": {},
   "outputs": [],
   "source": [
    "final_recommendation = get_recommendations(recommendation)"
   ]
  },
  {
   "cell_type": "code",
   "execution_count": 30,
   "metadata": {},
   "outputs": [
    {
     "data": {
      "text/html": [
       "<div>\n",
       "<style scoped>\n",
       "    .dataframe tbody tr th:only-of-type {\n",
       "        vertical-align: middle;\n",
       "    }\n",
       "\n",
       "    .dataframe tbody tr th {\n",
       "        vertical-align: top;\n",
       "    }\n",
       "\n",
       "    .dataframe thead th {\n",
       "        text-align: right;\n",
       "    }\n",
       "</style>\n",
       "<table border=\"1\" class=\"dataframe\">\n",
       "  <thead>\n",
       "    <tr style=\"text-align: right;\">\n",
       "      <th></th>\n",
       "      <th>title</th>\n",
       "      <th>description</th>\n",
       "      <th>averageRating</th>\n",
       "      <th>origin</th>\n",
       "      <th>type</th>\n",
       "    </tr>\n",
       "  </thead>\n",
       "  <tbody>\n",
       "    <tr>\n",
       "      <th>4918</th>\n",
       "      <td>The Hateful Eight</td>\n",
       "      <td>Years after the Civil War, a bounty hunter and...</td>\n",
       "      <td>7.799989</td>\n",
       "      <td>Netflix</td>\n",
       "      <td>Movie</td>\n",
       "    </tr>\n",
       "    <tr>\n",
       "      <th>3656</th>\n",
       "      <td>The Hateful Eight: Extended Version</td>\n",
       "      <td>Trapped at a stagecoach stop as a storm rages ...</td>\n",
       "      <td>NaN</td>\n",
       "      <td>Netflix</td>\n",
       "      <td>TV Show</td>\n",
       "    </tr>\n",
       "    <tr>\n",
       "      <th>13154</th>\n",
       "      <td>Meeting Evil</td>\n",
       "      <td>John (Luke Wilson) is taken on a murder-fueled...</td>\n",
       "      <td>5.300000</td>\n",
       "      <td>Prime Video</td>\n",
       "      <td>Movie</td>\n",
       "    </tr>\n",
       "    <tr>\n",
       "      <th>18066</th>\n",
       "      <td>Mother And Child</td>\n",
       "      <td>From writer-director Rodrigo Garcia (TV'S \"Big...</td>\n",
       "      <td>NaN</td>\n",
       "      <td>Prime Video</td>\n",
       "      <td>Movie</td>\n",
       "    </tr>\n",
       "    <tr>\n",
       "      <th>8457</th>\n",
       "      <td>Miss Peregrine's Home for Peculiar Children</td>\n",
       "      <td>A wildly imaginative fantasy-adventure about a...</td>\n",
       "      <td>6.700013</td>\n",
       "      <td>Disney +</td>\n",
       "      <td>Movie</td>\n",
       "    </tr>\n",
       "    <tr>\n",
       "      <th>7861</th>\n",
       "      <td>The Other Guys</td>\n",
       "      <td>New York cops Allen and Terry toil in obscurit...</td>\n",
       "      <td>6.705889</td>\n",
       "      <td>Netflix</td>\n",
       "      <td>Movie</td>\n",
       "    </tr>\n",
       "    <tr>\n",
       "      <th>3707</th>\n",
       "      <td>Unicorn Store</td>\n",
       "      <td>After failing out of art school and taking a h...</td>\n",
       "      <td>5.500000</td>\n",
       "      <td>Netflix</td>\n",
       "      <td>Movie</td>\n",
       "    </tr>\n",
       "    <tr>\n",
       "      <th>949</th>\n",
       "      <td>Dad Stop Embarrassing Me - The Afterparty</td>\n",
       "      <td>Jamie Foxx, David Alan Grier and more from the...</td>\n",
       "      <td>NaN</td>\n",
       "      <td>Netflix</td>\n",
       "      <td>Movie</td>\n",
       "    </tr>\n",
       "    <tr>\n",
       "      <th>1392</th>\n",
       "      <td>Death to 2020</td>\n",
       "      <td>As the year we all want to end finally does, t...</td>\n",
       "      <td>6.800000</td>\n",
       "      <td>Netflix</td>\n",
       "      <td>Movie</td>\n",
       "    </tr>\n",
       "    <tr>\n",
       "      <th>5891</th>\n",
       "      <td>Barely Lethal</td>\n",
       "      <td>A girl raised to be a government assassin just...</td>\n",
       "      <td>5.400000</td>\n",
       "      <td>Netflix</td>\n",
       "      <td>Movie</td>\n",
       "    </tr>\n",
       "  </tbody>\n",
       "</table>\n",
       "</div>"
      ],
      "text/plain": [
       "                                             title  \\\n",
       "4918                             The Hateful Eight   \n",
       "3656           The Hateful Eight: Extended Version   \n",
       "13154                                 Meeting Evil   \n",
       "18066                             Mother And Child   \n",
       "8457   Miss Peregrine's Home for Peculiar Children   \n",
       "7861                                The Other Guys   \n",
       "3707                                 Unicorn Store   \n",
       "949      Dad Stop Embarrassing Me - The Afterparty   \n",
       "1392                                 Death to 2020   \n",
       "5891                                 Barely Lethal   \n",
       "\n",
       "                                             description  averageRating  \\\n",
       "4918   Years after the Civil War, a bounty hunter and...       7.799989   \n",
       "3656   Trapped at a stagecoach stop as a storm rages ...            NaN   \n",
       "13154  John (Luke Wilson) is taken on a murder-fueled...       5.300000   \n",
       "18066  From writer-director Rodrigo Garcia (TV'S \"Big...            NaN   \n",
       "8457   A wildly imaginative fantasy-adventure about a...       6.700013   \n",
       "7861   New York cops Allen and Terry toil in obscurit...       6.705889   \n",
       "3707   After failing out of art school and taking a h...       5.500000   \n",
       "949    Jamie Foxx, David Alan Grier and more from the...            NaN   \n",
       "1392   As the year we all want to end finally does, t...       6.800000   \n",
       "5891   A girl raised to be a government assassin just...       5.400000   \n",
       "\n",
       "            origin     type  \n",
       "4918       Netflix    Movie  \n",
       "3656       Netflix  TV Show  \n",
       "13154  Prime Video    Movie  \n",
       "18066  Prime Video    Movie  \n",
       "8457      Disney +    Movie  \n",
       "7861       Netflix    Movie  \n",
       "3707       Netflix    Movie  \n",
       "949        Netflix    Movie  \n",
       "1392       Netflix    Movie  \n",
       "5891       Netflix    Movie  "
      ]
     },
     "execution_count": 30,
     "metadata": {},
     "output_type": "execute_result"
    }
   ],
   "source": [
    "final_recommendation"
   ]
  },
  {
   "cell_type": "markdown",
   "metadata": {},
   "source": [
    "# Content Based Algorithm : Features and New"
   ]
  },
  {
   "cell_type": "markdown",
   "metadata": {},
   "source": [
    "### New filtering"
   ]
  },
  {
   "cell_type": "markdown",
   "metadata": {},
   "source": [
    "A remettre en forme. \n",
    "\n",
    "How long does it take for a film to become old? (value has to be put in days)"
   ]
  },
  {
   "cell_type": "code",
   "execution_count": 31,
   "metadata": {},
   "outputs": [
    {
     "name": "stdout",
     "output_type": "stream",
     "text": [
      "How long does it take for a film to become old ? : 300\n"
     ]
    }
   ],
   "source": [
    "days_new = int(input(\"How long does it take for a film to become old ? : \"))\n",
    "\n",
    "date_new = dt.datetime.now()-dt.timedelta(days = days_new)"
   ]
  },
  {
   "cell_type": "markdown",
   "metadata": {},
   "source": [
    "### Filtering "
   ]
  },
  {
   "cell_type": "code",
   "execution_count": 32,
   "metadata": {},
   "outputs": [],
   "source": [
    "def loader_new(excel) :\n",
    "    \n",
    "    df = pd.DataFrame(pd.read_excel(excel))\n",
    "    \n",
    "    df = df.drop([\"Unnamed: 0\"], axis = 1)\n",
    "    \n",
    "    return df"
   ]
  },
  {
   "cell_type": "code",
   "execution_count": 33,
   "metadata": {},
   "outputs": [],
   "source": [
    "def new_set_new(xlsx, df1) :\n",
    "    \n",
    "    df = loader_new(xlsx)\n",
    "    \n",
    "    df = df.reset_index()\n",
    "    \n",
    "    #Merging similarities\n",
    "    \n",
    "    df = df.merge(df1, how = 'left', left_on = 'index', right_on = 'index')\n",
    "    \n",
    "    return df\n",
    "\n",
    "recommendation_new = new_set_new(\"streaming_content.xlsx\", similarity)"
   ]
  },
  {
   "cell_type": "code",
   "execution_count": 34,
   "metadata": {},
   "outputs": [],
   "source": [
    "def new_filtering (df, date) :\n",
    "    \n",
    "    df = df[df[\"date_added\"] >= date]\n",
    "    \n",
    "    return df\n",
    "\n",
    "recommendation_new = new_filtering(recommendation_new, date_new)"
   ]
  },
  {
   "cell_type": "markdown",
   "metadata": {},
   "source": [
    "### Recommendation"
   ]
  },
  {
   "cell_type": "code",
   "execution_count": 35,
   "metadata": {},
   "outputs": [],
   "source": [
    "def get_recommendations_new(df1) :\n",
    "    \n",
    "    df = df1.sort_values(by = [\"similarity\"], ascending = False)\n",
    "    \n",
    "    df = df[[\"title\",\"description\", \"averageRating\",\"origin\",\"type\"]].head(6)\n",
    "    \n",
    "    df.drop(df.index[:1], inplace = True)\n",
    "    \n",
    "    return df\n",
    "\n",
    "final_new_recommendation = get_recommendations_new(recommendation_new)"
   ]
  },
  {
   "cell_type": "code",
   "execution_count": 36,
   "metadata": {},
   "outputs": [
    {
     "data": {
      "text/html": [
       "<div>\n",
       "<style scoped>\n",
       "    .dataframe tbody tr th:only-of-type {\n",
       "        vertical-align: middle;\n",
       "    }\n",
       "\n",
       "    .dataframe tbody tr th {\n",
       "        vertical-align: top;\n",
       "    }\n",
       "\n",
       "    .dataframe thead th {\n",
       "        text-align: right;\n",
       "    }\n",
       "</style>\n",
       "<table border=\"1\" class=\"dataframe\">\n",
       "  <thead>\n",
       "    <tr style=\"text-align: right;\">\n",
       "      <th></th>\n",
       "      <th>title</th>\n",
       "      <th>description</th>\n",
       "      <th>averageRating</th>\n",
       "      <th>origin</th>\n",
       "      <th>type</th>\n",
       "    </tr>\n",
       "  </thead>\n",
       "  <tbody>\n",
       "    <tr>\n",
       "      <th>307</th>\n",
       "      <td>Freedomland</td>\n",
       "      <td>When a woman reports that her infant son was k...</td>\n",
       "      <td>5.112932</td>\n",
       "      <td>Netflix</td>\n",
       "      <td>Movie</td>\n",
       "    </tr>\n",
       "    <tr>\n",
       "      <th>304</th>\n",
       "      <td>Deep Blue Sea</td>\n",
       "      <td>Scientists conduct research on sharks in searc...</td>\n",
       "      <td>5.904535</td>\n",
       "      <td>Netflix</td>\n",
       "      <td>Movie</td>\n",
       "    </tr>\n",
       "    <tr>\n",
       "      <th>19152</th>\n",
       "      <td>Peeples</td>\n",
       "      <td>Sparks fly when Wade Walker (Craig Robinson) c...</td>\n",
       "      <td>5.300000</td>\n",
       "      <td>Hulu</td>\n",
       "      <td>Movie</td>\n",
       "    </tr>\n",
       "    <tr>\n",
       "      <th>8318</th>\n",
       "      <td>Fantastic Four</td>\n",
       "      <td>Four astronauts develop superpowers and must j...</td>\n",
       "      <td>5.210624</td>\n",
       "      <td>Disney +</td>\n",
       "      <td>Movie</td>\n",
       "    </tr>\n",
       "    <tr>\n",
       "      <th>8408</th>\n",
       "      <td>Fantastic Four: Rise of the Silver Surfer</td>\n",
       "      <td>The Fantastic Four meet The Silver Surfer, who...</td>\n",
       "      <td>5.642121</td>\n",
       "      <td>Disney +</td>\n",
       "      <td>Movie</td>\n",
       "    </tr>\n",
       "  </tbody>\n",
       "</table>\n",
       "</div>"
      ],
      "text/plain": [
       "                                           title  \\\n",
       "307                                  Freedomland   \n",
       "304                                Deep Blue Sea   \n",
       "19152                                    Peeples   \n",
       "8318                              Fantastic Four   \n",
       "8408   Fantastic Four: Rise of the Silver Surfer   \n",
       "\n",
       "                                             description  averageRating  \\\n",
       "307    When a woman reports that her infant son was k...       5.112932   \n",
       "304    Scientists conduct research on sharks in searc...       5.904535   \n",
       "19152  Sparks fly when Wade Walker (Craig Robinson) c...       5.300000   \n",
       "8318   Four astronauts develop superpowers and must j...       5.210624   \n",
       "8408   The Fantastic Four meet The Silver Surfer, who...       5.642121   \n",
       "\n",
       "         origin   type  \n",
       "307     Netflix  Movie  \n",
       "304     Netflix  Movie  \n",
       "19152      Hulu  Movie  \n",
       "8318   Disney +  Movie  \n",
       "8408   Disney +  Movie  "
      ]
     },
     "execution_count": 36,
     "metadata": {},
     "output_type": "execute_result"
    }
   ],
   "source": [
    "final_new_recommendation"
   ]
  },
  {
   "cell_type": "code",
   "execution_count": null,
   "metadata": {},
   "outputs": [],
   "source": []
  },
  {
   "cell_type": "code",
   "execution_count": null,
   "metadata": {},
   "outputs": [],
   "source": []
  }
 ],
 "metadata": {
  "kernelspec": {
   "display_name": "Python 3",
   "language": "python",
   "name": "python3"
  },
  "language_info": {
   "codemirror_mode": {
    "name": "ipython",
    "version": 3
   },
   "file_extension": ".py",
   "mimetype": "text/x-python",
   "name": "python",
   "nbconvert_exporter": "python",
   "pygments_lexer": "ipython3",
   "version": "3.8.3"
  }
 },
 "nbformat": 4,
 "nbformat_minor": 4
}
