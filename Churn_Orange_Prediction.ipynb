{
 "cells": [
  {
   "cell_type": "markdown",
   "metadata": {},
   "source": [
    "# Introduction"
   ]
  },
  {
   "cell_type": "markdown",
   "metadata": {},
   "source": [
    "### Context"
   ]
  },
  {
   "cell_type": "markdown",
   "metadata": {},
   "source": [
    "The main goal is to predict who is a churner and who isn't. \n",
    "\n",
    "The dataset was found in Kaggle at this link : https://www.kaggle.com/mnassrib/telecom-churn-datasets?select=churn-bigml-80.csv. \n",
    "\n",
    "The dataset is composed by data about Orange's Customers. The data were collected on the US Territory. \n",
    "\n",
    "The data is normally clean, however we will try to empower data throught feature engineering. "
   ]
  },
  {
   "cell_type": "markdown",
   "metadata": {},
   "source": [
    "### Explanation of the Features"
   ]
  },
  {
   "cell_type": "markdown",
   "metadata": {},
   "source": [
    "**State:** USA States (list of the abreviations : https://www.ibm.com/support/knowledgecenter/fr/SSKPRS/com.ibm.help.pem.sponsor.tasks.doc/r_state_abbrev.html)\n",
    "\n",
    "**Account Length:** Length of The Account.\n",
    "\n",
    "**Area Code 415:** relates to San Francisco,408 is of San Jose and 510 is of City of Okland.\n",
    "\n",
    "**International Plan:** Yes Indicate International Plan is Present and No Indicates no subscription for Internatinal Plan.\n",
    "\n",
    "**Voice Mail Plan:** Yes Indicates Voice Mail Plan is Present and No Indicates no subscription for Voice Mail Plan.\n",
    "\n",
    "**Number vmail messages:** Number of Voice Mail Messages ranging from 0 to 50.\n",
    "\n",
    "**Total day minutes Total:** Number of Minutes Spent By Customers in Morning\n",
    "\n",
    "**Total day calls Total:** Number of Calls made by Customer in Morning.\n",
    "\n",
    "**Total day charge Total:** Charge to the Customers in Morning.\n",
    "\n",
    "**Total eve minutes Total:** Number of Minutes Spent By Customers in Evening.\n",
    "\n",
    "**Total eve calls Total:** Number of Calls made by Customer in Evening.\n",
    "\n",
    "**Total eve charge Total:** Charge to the Customers in Morning.\n",
    "\n",
    "**Total night minutes Total:** Number of Minutes Spent By Customers in the Night.\n",
    "\n",
    "**Total night calls Total:** Number of Calls made by Customer in Night.\n",
    "\n",
    "**Total night charge Total:** Charge to the Customers in Night."
   ]
  },
  {
   "cell_type": "markdown",
   "metadata": {},
   "source": [
    "### "
   ]
  },
  {
   "cell_type": "markdown",
   "metadata": {},
   "source": [
    "# Imports"
   ]
  },
  {
   "cell_type": "code",
   "execution_count": 1,
   "metadata": {},
   "outputs": [],
   "source": [
    "import pandas as pd\n",
    "import numpy as np\n",
    "import seaborn as sns\n",
    "import sklearn\n",
    "import torch\n",
    "import sklearn.metrics as metrics\n",
    "import matplotlib.pyplot as plt\n",
    "import optuna\n",
    "from sklearn import preprocessing\n",
    "from sklearn.model_selection import train_test_split\n",
    "from sklearn.model_selection import GridSearchCV \n",
    "from collections import OrderedDict\n",
    "from sklearn.preprocessing import LabelEncoder"
   ]
  },
  {
   "cell_type": "markdown",
   "metadata": {},
   "source": [
    "### "
   ]
  },
  {
   "cell_type": "markdown",
   "metadata": {},
   "source": [
    "# Loading Data"
   ]
  },
  {
   "cell_type": "code",
   "execution_count": 2,
   "metadata": {},
   "outputs": [],
   "source": [
    "df_orange = pd.DataFrame(pd.read_excel('Churn_Orange.xlsx'))"
   ]
  },
  {
   "cell_type": "code",
   "execution_count": 3,
   "metadata": {},
   "outputs": [
    {
     "data": {
      "text/html": [
       "<div>\n",
       "<style scoped>\n",
       "    .dataframe tbody tr th:only-of-type {\n",
       "        vertical-align: middle;\n",
       "    }\n",
       "\n",
       "    .dataframe tbody tr th {\n",
       "        vertical-align: top;\n",
       "    }\n",
       "\n",
       "    .dataframe thead th {\n",
       "        text-align: right;\n",
       "    }\n",
       "</style>\n",
       "<table border=\"1\" class=\"dataframe\">\n",
       "  <thead>\n",
       "    <tr style=\"text-align: right;\">\n",
       "      <th></th>\n",
       "      <th>State</th>\n",
       "      <th>Account length</th>\n",
       "      <th>Area code</th>\n",
       "      <th>International plan</th>\n",
       "      <th>Voice mail plan</th>\n",
       "      <th>Number vmail messages</th>\n",
       "      <th>Total day minutes</th>\n",
       "      <th>Total day calls</th>\n",
       "      <th>Total day charge</th>\n",
       "      <th>Total eve minutes</th>\n",
       "      <th>Total eve calls</th>\n",
       "      <th>Total eve charge</th>\n",
       "      <th>Total night minutes</th>\n",
       "      <th>Total night calls</th>\n",
       "      <th>Total night charge</th>\n",
       "      <th>Total intl minutes</th>\n",
       "      <th>Total intl calls</th>\n",
       "      <th>Total intl charge</th>\n",
       "      <th>Customer service calls</th>\n",
       "      <th>Churn</th>\n",
       "    </tr>\n",
       "  </thead>\n",
       "  <tbody>\n",
       "    <tr>\n",
       "      <th>0</th>\n",
       "      <td>KS</td>\n",
       "      <td>128</td>\n",
       "      <td>415</td>\n",
       "      <td>No</td>\n",
       "      <td>Yes</td>\n",
       "      <td>25</td>\n",
       "      <td>265.1</td>\n",
       "      <td>110</td>\n",
       "      <td>45.07</td>\n",
       "      <td>197.4</td>\n",
       "      <td>99</td>\n",
       "      <td>16.78</td>\n",
       "      <td>244.7</td>\n",
       "      <td>91</td>\n",
       "      <td>11.01</td>\n",
       "      <td>10.0</td>\n",
       "      <td>3</td>\n",
       "      <td>2.70</td>\n",
       "      <td>1</td>\n",
       "      <td>False</td>\n",
       "    </tr>\n",
       "    <tr>\n",
       "      <th>1</th>\n",
       "      <td>OH</td>\n",
       "      <td>107</td>\n",
       "      <td>415</td>\n",
       "      <td>No</td>\n",
       "      <td>Yes</td>\n",
       "      <td>26</td>\n",
       "      <td>161.6</td>\n",
       "      <td>123</td>\n",
       "      <td>27.47</td>\n",
       "      <td>195.5</td>\n",
       "      <td>103</td>\n",
       "      <td>16.62</td>\n",
       "      <td>254.4</td>\n",
       "      <td>103</td>\n",
       "      <td>11.45</td>\n",
       "      <td>13.7</td>\n",
       "      <td>3</td>\n",
       "      <td>3.70</td>\n",
       "      <td>1</td>\n",
       "      <td>False</td>\n",
       "    </tr>\n",
       "    <tr>\n",
       "      <th>2</th>\n",
       "      <td>NJ</td>\n",
       "      <td>137</td>\n",
       "      <td>415</td>\n",
       "      <td>No</td>\n",
       "      <td>No</td>\n",
       "      <td>0</td>\n",
       "      <td>243.4</td>\n",
       "      <td>114</td>\n",
       "      <td>41.38</td>\n",
       "      <td>121.2</td>\n",
       "      <td>110</td>\n",
       "      <td>10.30</td>\n",
       "      <td>162.6</td>\n",
       "      <td>104</td>\n",
       "      <td>7.32</td>\n",
       "      <td>12.2</td>\n",
       "      <td>5</td>\n",
       "      <td>3.29</td>\n",
       "      <td>0</td>\n",
       "      <td>False</td>\n",
       "    </tr>\n",
       "    <tr>\n",
       "      <th>3</th>\n",
       "      <td>OH</td>\n",
       "      <td>84</td>\n",
       "      <td>408</td>\n",
       "      <td>Yes</td>\n",
       "      <td>No</td>\n",
       "      <td>0</td>\n",
       "      <td>299.4</td>\n",
       "      <td>71</td>\n",
       "      <td>50.90</td>\n",
       "      <td>61.9</td>\n",
       "      <td>88</td>\n",
       "      <td>5.26</td>\n",
       "      <td>196.9</td>\n",
       "      <td>89</td>\n",
       "      <td>8.86</td>\n",
       "      <td>6.6</td>\n",
       "      <td>7</td>\n",
       "      <td>1.78</td>\n",
       "      <td>2</td>\n",
       "      <td>False</td>\n",
       "    </tr>\n",
       "    <tr>\n",
       "      <th>4</th>\n",
       "      <td>OK</td>\n",
       "      <td>75</td>\n",
       "      <td>415</td>\n",
       "      <td>Yes</td>\n",
       "      <td>No</td>\n",
       "      <td>0</td>\n",
       "      <td>166.7</td>\n",
       "      <td>113</td>\n",
       "      <td>28.34</td>\n",
       "      <td>148.3</td>\n",
       "      <td>122</td>\n",
       "      <td>12.61</td>\n",
       "      <td>186.9</td>\n",
       "      <td>121</td>\n",
       "      <td>8.41</td>\n",
       "      <td>10.1</td>\n",
       "      <td>3</td>\n",
       "      <td>2.73</td>\n",
       "      <td>3</td>\n",
       "      <td>False</td>\n",
       "    </tr>\n",
       "    <tr>\n",
       "      <th>...</th>\n",
       "      <td>...</td>\n",
       "      <td>...</td>\n",
       "      <td>...</td>\n",
       "      <td>...</td>\n",
       "      <td>...</td>\n",
       "      <td>...</td>\n",
       "      <td>...</td>\n",
       "      <td>...</td>\n",
       "      <td>...</td>\n",
       "      <td>...</td>\n",
       "      <td>...</td>\n",
       "      <td>...</td>\n",
       "      <td>...</td>\n",
       "      <td>...</td>\n",
       "      <td>...</td>\n",
       "      <td>...</td>\n",
       "      <td>...</td>\n",
       "      <td>...</td>\n",
       "      <td>...</td>\n",
       "      <td>...</td>\n",
       "    </tr>\n",
       "    <tr>\n",
       "      <th>3328</th>\n",
       "      <td>WI</td>\n",
       "      <td>114</td>\n",
       "      <td>415</td>\n",
       "      <td>No</td>\n",
       "      <td>Yes</td>\n",
       "      <td>26</td>\n",
       "      <td>137.1</td>\n",
       "      <td>88</td>\n",
       "      <td>23.31</td>\n",
       "      <td>155.7</td>\n",
       "      <td>125</td>\n",
       "      <td>13.23</td>\n",
       "      <td>247.6</td>\n",
       "      <td>94</td>\n",
       "      <td>11.14</td>\n",
       "      <td>11.5</td>\n",
       "      <td>7</td>\n",
       "      <td>3.11</td>\n",
       "      <td>2</td>\n",
       "      <td>False</td>\n",
       "    </tr>\n",
       "    <tr>\n",
       "      <th>3329</th>\n",
       "      <td>AL</td>\n",
       "      <td>106</td>\n",
       "      <td>408</td>\n",
       "      <td>No</td>\n",
       "      <td>Yes</td>\n",
       "      <td>29</td>\n",
       "      <td>83.6</td>\n",
       "      <td>131</td>\n",
       "      <td>14.21</td>\n",
       "      <td>203.9</td>\n",
       "      <td>131</td>\n",
       "      <td>17.33</td>\n",
       "      <td>229.5</td>\n",
       "      <td>73</td>\n",
       "      <td>10.33</td>\n",
       "      <td>8.1</td>\n",
       "      <td>3</td>\n",
       "      <td>2.19</td>\n",
       "      <td>1</td>\n",
       "      <td>False</td>\n",
       "    </tr>\n",
       "    <tr>\n",
       "      <th>3330</th>\n",
       "      <td>VT</td>\n",
       "      <td>60</td>\n",
       "      <td>415</td>\n",
       "      <td>No</td>\n",
       "      <td>No</td>\n",
       "      <td>0</td>\n",
       "      <td>193.9</td>\n",
       "      <td>118</td>\n",
       "      <td>32.96</td>\n",
       "      <td>85.0</td>\n",
       "      <td>110</td>\n",
       "      <td>7.23</td>\n",
       "      <td>210.1</td>\n",
       "      <td>134</td>\n",
       "      <td>9.45</td>\n",
       "      <td>13.2</td>\n",
       "      <td>8</td>\n",
       "      <td>3.56</td>\n",
       "      <td>3</td>\n",
       "      <td>False</td>\n",
       "    </tr>\n",
       "    <tr>\n",
       "      <th>3331</th>\n",
       "      <td>WV</td>\n",
       "      <td>159</td>\n",
       "      <td>415</td>\n",
       "      <td>No</td>\n",
       "      <td>No</td>\n",
       "      <td>0</td>\n",
       "      <td>169.8</td>\n",
       "      <td>114</td>\n",
       "      <td>28.87</td>\n",
       "      <td>197.7</td>\n",
       "      <td>105</td>\n",
       "      <td>16.80</td>\n",
       "      <td>193.7</td>\n",
       "      <td>82</td>\n",
       "      <td>8.72</td>\n",
       "      <td>11.6</td>\n",
       "      <td>4</td>\n",
       "      <td>3.13</td>\n",
       "      <td>1</td>\n",
       "      <td>False</td>\n",
       "    </tr>\n",
       "    <tr>\n",
       "      <th>3332</th>\n",
       "      <td>CT</td>\n",
       "      <td>184</td>\n",
       "      <td>510</td>\n",
       "      <td>Yes</td>\n",
       "      <td>No</td>\n",
       "      <td>0</td>\n",
       "      <td>213.8</td>\n",
       "      <td>105</td>\n",
       "      <td>36.35</td>\n",
       "      <td>159.6</td>\n",
       "      <td>84</td>\n",
       "      <td>13.57</td>\n",
       "      <td>139.2</td>\n",
       "      <td>137</td>\n",
       "      <td>6.26</td>\n",
       "      <td>5.0</td>\n",
       "      <td>10</td>\n",
       "      <td>1.35</td>\n",
       "      <td>2</td>\n",
       "      <td>False</td>\n",
       "    </tr>\n",
       "  </tbody>\n",
       "</table>\n",
       "<p>3333 rows × 20 columns</p>\n",
       "</div>"
      ],
      "text/plain": [
       "     State  Account length  Area code International plan Voice mail plan  \\\n",
       "0       KS             128        415                 No             Yes   \n",
       "1       OH             107        415                 No             Yes   \n",
       "2       NJ             137        415                 No              No   \n",
       "3       OH              84        408                Yes              No   \n",
       "4       OK              75        415                Yes              No   \n",
       "...    ...             ...        ...                ...             ...   \n",
       "3328    WI             114        415                 No             Yes   \n",
       "3329    AL             106        408                 No             Yes   \n",
       "3330    VT              60        415                 No              No   \n",
       "3331    WV             159        415                 No              No   \n",
       "3332    CT             184        510                Yes              No   \n",
       "\n",
       "      Number vmail messages  Total day minutes  Total day calls  \\\n",
       "0                        25              265.1              110   \n",
       "1                        26              161.6              123   \n",
       "2                         0              243.4              114   \n",
       "3                         0              299.4               71   \n",
       "4                         0              166.7              113   \n",
       "...                     ...                ...              ...   \n",
       "3328                     26              137.1               88   \n",
       "3329                     29               83.6              131   \n",
       "3330                      0              193.9              118   \n",
       "3331                      0              169.8              114   \n",
       "3332                      0              213.8              105   \n",
       "\n",
       "      Total day charge  Total eve minutes  Total eve calls  Total eve charge  \\\n",
       "0                45.07              197.4               99             16.78   \n",
       "1                27.47              195.5              103             16.62   \n",
       "2                41.38              121.2              110             10.30   \n",
       "3                50.90               61.9               88              5.26   \n",
       "4                28.34              148.3              122             12.61   \n",
       "...                ...                ...              ...               ...   \n",
       "3328             23.31              155.7              125             13.23   \n",
       "3329             14.21              203.9              131             17.33   \n",
       "3330             32.96               85.0              110              7.23   \n",
       "3331             28.87              197.7              105             16.80   \n",
       "3332             36.35              159.6               84             13.57   \n",
       "\n",
       "      Total night minutes  Total night calls  Total night charge  \\\n",
       "0                   244.7                 91               11.01   \n",
       "1                   254.4                103               11.45   \n",
       "2                   162.6                104                7.32   \n",
       "3                   196.9                 89                8.86   \n",
       "4                   186.9                121                8.41   \n",
       "...                   ...                ...                 ...   \n",
       "3328                247.6                 94               11.14   \n",
       "3329                229.5                 73               10.33   \n",
       "3330                210.1                134                9.45   \n",
       "3331                193.7                 82                8.72   \n",
       "3332                139.2                137                6.26   \n",
       "\n",
       "      Total intl minutes  Total intl calls  Total intl charge  \\\n",
       "0                   10.0                 3               2.70   \n",
       "1                   13.7                 3               3.70   \n",
       "2                   12.2                 5               3.29   \n",
       "3                    6.6                 7               1.78   \n",
       "4                   10.1                 3               2.73   \n",
       "...                  ...               ...                ...   \n",
       "3328                11.5                 7               3.11   \n",
       "3329                 8.1                 3               2.19   \n",
       "3330                13.2                 8               3.56   \n",
       "3331                11.6                 4               3.13   \n",
       "3332                 5.0                10               1.35   \n",
       "\n",
       "      Customer service calls  Churn  \n",
       "0                          1  False  \n",
       "1                          1  False  \n",
       "2                          0  False  \n",
       "3                          2  False  \n",
       "4                          3  False  \n",
       "...                      ...    ...  \n",
       "3328                       2  False  \n",
       "3329                       1  False  \n",
       "3330                       3  False  \n",
       "3331                       1  False  \n",
       "3332                       2  False  \n",
       "\n",
       "[3333 rows x 20 columns]"
      ]
     },
     "execution_count": 3,
     "metadata": {},
     "output_type": "execute_result"
    }
   ],
   "source": [
    "df_orange"
   ]
  },
  {
   "cell_type": "markdown",
   "metadata": {},
   "source": [
    "### "
   ]
  },
  {
   "cell_type": "markdown",
   "metadata": {},
   "source": [
    "# Statistical Analysis "
   ]
  },
  {
   "cell_type": "markdown",
   "metadata": {},
   "source": [
    "### Classic Statistics "
   ]
  },
  {
   "cell_type": "code",
   "execution_count": 4,
   "metadata": {
    "scrolled": false
   },
   "outputs": [
    {
     "data": {
      "text/html": [
       "<div>\n",
       "<style scoped>\n",
       "    .dataframe tbody tr th:only-of-type {\n",
       "        vertical-align: middle;\n",
       "    }\n",
       "\n",
       "    .dataframe tbody tr th {\n",
       "        vertical-align: top;\n",
       "    }\n",
       "\n",
       "    .dataframe thead th {\n",
       "        text-align: right;\n",
       "    }\n",
       "</style>\n",
       "<table border=\"1\" class=\"dataframe\">\n",
       "  <thead>\n",
       "    <tr style=\"text-align: right;\">\n",
       "      <th></th>\n",
       "      <th>Account length</th>\n",
       "      <th>Area code</th>\n",
       "      <th>Number vmail messages</th>\n",
       "      <th>Total day minutes</th>\n",
       "      <th>Total day calls</th>\n",
       "      <th>Total day charge</th>\n",
       "      <th>Total eve minutes</th>\n",
       "      <th>Total eve calls</th>\n",
       "      <th>Total eve charge</th>\n",
       "      <th>Total night minutes</th>\n",
       "      <th>Total night calls</th>\n",
       "      <th>Total night charge</th>\n",
       "      <th>Total intl minutes</th>\n",
       "      <th>Total intl calls</th>\n",
       "      <th>Total intl charge</th>\n",
       "      <th>Customer service calls</th>\n",
       "    </tr>\n",
       "  </thead>\n",
       "  <tbody>\n",
       "    <tr>\n",
       "      <th>count</th>\n",
       "      <td>3333.000000</td>\n",
       "      <td>3333.000000</td>\n",
       "      <td>3333.000000</td>\n",
       "      <td>3333.000000</td>\n",
       "      <td>3333.000000</td>\n",
       "      <td>3333.000000</td>\n",
       "      <td>3333.000000</td>\n",
       "      <td>3333.000000</td>\n",
       "      <td>3333.000000</td>\n",
       "      <td>3333.000000</td>\n",
       "      <td>3333.000000</td>\n",
       "      <td>3333.000000</td>\n",
       "      <td>3333.000000</td>\n",
       "      <td>3333.000000</td>\n",
       "      <td>3333.000000</td>\n",
       "      <td>3333.000000</td>\n",
       "    </tr>\n",
       "    <tr>\n",
       "      <th>mean</th>\n",
       "      <td>101.064806</td>\n",
       "      <td>437.182418</td>\n",
       "      <td>8.099010</td>\n",
       "      <td>179.775098</td>\n",
       "      <td>100.435644</td>\n",
       "      <td>30.562307</td>\n",
       "      <td>200.980348</td>\n",
       "      <td>100.114311</td>\n",
       "      <td>17.083540</td>\n",
       "      <td>200.872037</td>\n",
       "      <td>100.107711</td>\n",
       "      <td>9.039325</td>\n",
       "      <td>10.237294</td>\n",
       "      <td>4.479448</td>\n",
       "      <td>2.764581</td>\n",
       "      <td>1.562856</td>\n",
       "    </tr>\n",
       "    <tr>\n",
       "      <th>std</th>\n",
       "      <td>39.822106</td>\n",
       "      <td>42.371290</td>\n",
       "      <td>13.688365</td>\n",
       "      <td>54.467389</td>\n",
       "      <td>20.069084</td>\n",
       "      <td>9.259435</td>\n",
       "      <td>50.713844</td>\n",
       "      <td>19.922625</td>\n",
       "      <td>4.310668</td>\n",
       "      <td>50.573847</td>\n",
       "      <td>19.568609</td>\n",
       "      <td>2.275873</td>\n",
       "      <td>2.791840</td>\n",
       "      <td>2.461214</td>\n",
       "      <td>0.753773</td>\n",
       "      <td>1.315491</td>\n",
       "    </tr>\n",
       "    <tr>\n",
       "      <th>min</th>\n",
       "      <td>1.000000</td>\n",
       "      <td>408.000000</td>\n",
       "      <td>0.000000</td>\n",
       "      <td>0.000000</td>\n",
       "      <td>0.000000</td>\n",
       "      <td>0.000000</td>\n",
       "      <td>0.000000</td>\n",
       "      <td>0.000000</td>\n",
       "      <td>0.000000</td>\n",
       "      <td>23.200000</td>\n",
       "      <td>33.000000</td>\n",
       "      <td>1.040000</td>\n",
       "      <td>0.000000</td>\n",
       "      <td>0.000000</td>\n",
       "      <td>0.000000</td>\n",
       "      <td>0.000000</td>\n",
       "    </tr>\n",
       "    <tr>\n",
       "      <th>25%</th>\n",
       "      <td>74.000000</td>\n",
       "      <td>408.000000</td>\n",
       "      <td>0.000000</td>\n",
       "      <td>143.700000</td>\n",
       "      <td>87.000000</td>\n",
       "      <td>24.430000</td>\n",
       "      <td>166.600000</td>\n",
       "      <td>87.000000</td>\n",
       "      <td>14.160000</td>\n",
       "      <td>167.000000</td>\n",
       "      <td>87.000000</td>\n",
       "      <td>7.520000</td>\n",
       "      <td>8.500000</td>\n",
       "      <td>3.000000</td>\n",
       "      <td>2.300000</td>\n",
       "      <td>1.000000</td>\n",
       "    </tr>\n",
       "    <tr>\n",
       "      <th>50%</th>\n",
       "      <td>101.000000</td>\n",
       "      <td>415.000000</td>\n",
       "      <td>0.000000</td>\n",
       "      <td>179.400000</td>\n",
       "      <td>101.000000</td>\n",
       "      <td>30.500000</td>\n",
       "      <td>201.400000</td>\n",
       "      <td>100.000000</td>\n",
       "      <td>17.120000</td>\n",
       "      <td>201.200000</td>\n",
       "      <td>100.000000</td>\n",
       "      <td>9.050000</td>\n",
       "      <td>10.300000</td>\n",
       "      <td>4.000000</td>\n",
       "      <td>2.780000</td>\n",
       "      <td>1.000000</td>\n",
       "    </tr>\n",
       "    <tr>\n",
       "      <th>75%</th>\n",
       "      <td>127.000000</td>\n",
       "      <td>510.000000</td>\n",
       "      <td>20.000000</td>\n",
       "      <td>216.400000</td>\n",
       "      <td>114.000000</td>\n",
       "      <td>36.790000</td>\n",
       "      <td>235.300000</td>\n",
       "      <td>114.000000</td>\n",
       "      <td>20.000000</td>\n",
       "      <td>235.300000</td>\n",
       "      <td>113.000000</td>\n",
       "      <td>10.590000</td>\n",
       "      <td>12.100000</td>\n",
       "      <td>6.000000</td>\n",
       "      <td>3.270000</td>\n",
       "      <td>2.000000</td>\n",
       "    </tr>\n",
       "    <tr>\n",
       "      <th>max</th>\n",
       "      <td>243.000000</td>\n",
       "      <td>510.000000</td>\n",
       "      <td>51.000000</td>\n",
       "      <td>350.800000</td>\n",
       "      <td>165.000000</td>\n",
       "      <td>59.640000</td>\n",
       "      <td>363.700000</td>\n",
       "      <td>170.000000</td>\n",
       "      <td>30.910000</td>\n",
       "      <td>395.000000</td>\n",
       "      <td>175.000000</td>\n",
       "      <td>17.770000</td>\n",
       "      <td>20.000000</td>\n",
       "      <td>20.000000</td>\n",
       "      <td>5.400000</td>\n",
       "      <td>9.000000</td>\n",
       "    </tr>\n",
       "  </tbody>\n",
       "</table>\n",
       "</div>"
      ],
      "text/plain": [
       "       Account length    Area code  Number vmail messages  Total day minutes  \\\n",
       "count     3333.000000  3333.000000            3333.000000        3333.000000   \n",
       "mean       101.064806   437.182418               8.099010         179.775098   \n",
       "std         39.822106    42.371290              13.688365          54.467389   \n",
       "min          1.000000   408.000000               0.000000           0.000000   \n",
       "25%         74.000000   408.000000               0.000000         143.700000   \n",
       "50%        101.000000   415.000000               0.000000         179.400000   \n",
       "75%        127.000000   510.000000              20.000000         216.400000   \n",
       "max        243.000000   510.000000              51.000000         350.800000   \n",
       "\n",
       "       Total day calls  Total day charge  Total eve minutes  Total eve calls  \\\n",
       "count      3333.000000       3333.000000        3333.000000      3333.000000   \n",
       "mean        100.435644         30.562307         200.980348       100.114311   \n",
       "std          20.069084          9.259435          50.713844        19.922625   \n",
       "min           0.000000          0.000000           0.000000         0.000000   \n",
       "25%          87.000000         24.430000         166.600000        87.000000   \n",
       "50%         101.000000         30.500000         201.400000       100.000000   \n",
       "75%         114.000000         36.790000         235.300000       114.000000   \n",
       "max         165.000000         59.640000         363.700000       170.000000   \n",
       "\n",
       "       Total eve charge  Total night minutes  Total night calls  \\\n",
       "count       3333.000000          3333.000000        3333.000000   \n",
       "mean          17.083540           200.872037         100.107711   \n",
       "std            4.310668            50.573847          19.568609   \n",
       "min            0.000000            23.200000          33.000000   \n",
       "25%           14.160000           167.000000          87.000000   \n",
       "50%           17.120000           201.200000         100.000000   \n",
       "75%           20.000000           235.300000         113.000000   \n",
       "max           30.910000           395.000000         175.000000   \n",
       "\n",
       "       Total night charge  Total intl minutes  Total intl calls  \\\n",
       "count         3333.000000         3333.000000       3333.000000   \n",
       "mean             9.039325           10.237294          4.479448   \n",
       "std              2.275873            2.791840          2.461214   \n",
       "min              1.040000            0.000000          0.000000   \n",
       "25%              7.520000            8.500000          3.000000   \n",
       "50%              9.050000           10.300000          4.000000   \n",
       "75%             10.590000           12.100000          6.000000   \n",
       "max             17.770000           20.000000         20.000000   \n",
       "\n",
       "       Total intl charge  Customer service calls  \n",
       "count        3333.000000             3333.000000  \n",
       "mean            2.764581                1.562856  \n",
       "std             0.753773                1.315491  \n",
       "min             0.000000                0.000000  \n",
       "25%             2.300000                1.000000  \n",
       "50%             2.780000                1.000000  \n",
       "75%             3.270000                2.000000  \n",
       "max             5.400000                9.000000  "
      ]
     },
     "execution_count": 4,
     "metadata": {},
     "output_type": "execute_result"
    }
   ],
   "source": [
    "df_orange.describe()"
   ]
  },
  {
   "cell_type": "markdown",
   "metadata": {},
   "source": [
    "#### Missing Values ? "
   ]
  },
  {
   "cell_type": "code",
   "execution_count": 5,
   "metadata": {
    "scrolled": false
   },
   "outputs": [
    {
     "name": "stdout",
     "output_type": "stream",
     "text": [
      "Missing values :   0\n"
     ]
    }
   ],
   "source": [
    "print (\"Missing values :  \", df_orange.isnull().sum().values.sum())"
   ]
  },
  {
   "cell_type": "markdown",
   "metadata": {},
   "source": [
    "#### Churn rate"
   ]
  },
  {
   "cell_type": "code",
   "execution_count": 6,
   "metadata": {},
   "outputs": [
    {
     "name": "stdout",
     "output_type": "stream",
     "text": [
      "The churn rate is : 14.49 %\n"
     ]
    }
   ],
   "source": [
    "churn_rate = df_orange[df_orange[\"Churn\"]==True][\"Churn\"].value_counts()/sum(df_orange[\"Churn\"].value_counts())*100\n",
    "print(\"The churn rate is :\",\"%.2f\" %churn_rate,\"%\")"
   ]
  },
  {
   "cell_type": "markdown",
   "metadata": {},
   "source": [
    "### Charts"
   ]
  },
  {
   "cell_type": "markdown",
   "metadata": {},
   "source": [
    "#### Box-Plot"
   ]
  },
  {
   "cell_type": "code",
   "execution_count": 7,
   "metadata": {},
   "outputs": [],
   "source": [
    "df_box_plot = df_orange.drop([\"State\",\"Area code\"],axis = 1).copy()"
   ]
  },
  {
   "cell_type": "code",
   "execution_count": 9,
   "metadata": {
    "scrolled": false
   },
   "outputs": [
    {
     "data": {
      "image/png": "[encoded data removed]",
      "text/plain": [
       "<Figure size 2520x2520 with 1 Axes>"
      ]
     },
     "metadata": {
      "needs_background": "light"
     },
     "output_type": "display_data"
    },
    {
     "data": {
      "text/plain": [
       "<Figure size 2520x2520 with 0 Axes>"
      ]
     },
     "metadata": {},
     "output_type": "display_data"
    }
   ],
   "source": [
    "sns.boxplot(data = df_box_plot)\n",
    "plt.title (\"Box-Plot for Statistical Analysis\")\n",
    "plt.figure()\n",
    "plt.rc('figure', figsize=[35, 35])"
   ]
  },
  {
   "cell_type": "markdown",
   "metadata": {},
   "source": [
    "**Conclusion:** There are many extreme or aberrant values in the dataset. Concerning such dataset, this is not really surprising. Indeed, many people can have a subscription since a long time and this phenomenon directly impact on extreme values. "
   ]
  },
  {
   "cell_type": "markdown",
   "metadata": {},
   "source": [
    "#### Churners vs Subscribers"
   ]
  },
  {
   "cell_type": "code",
   "execution_count": 10,
   "metadata": {},
   "outputs": [],
   "source": [
    "# Percentage of Churners"
   ]
  },
  {
   "cell_type": "code",
   "execution_count": 11,
   "metadata": {},
   "outputs": [
    {
     "name": "stdout",
     "output_type": "stream",
     "text": [
      "Churners: 483 \n",
      "Subscribers: 2850\n"
     ]
    }
   ],
   "source": [
    "## Creating a list of churners and subscribers\n",
    "nb_churners = df_orange[df_orange[\"Churn\"]== True]\n",
    "nb_churners = nb_churners[\"Churn\"].values.tolist()\n",
    "nb_churners = len(nb_churners)\n",
    "\n",
    "nb_subscribers = df_orange[df_orange[\"Churn\"]== False]\n",
    "nb_subscribers = nb_subscribers[\"Churn\"].values.tolist()\n",
    "nb_subscribers = len(nb_subscribers)\n",
    "\n",
    "print(\"Churners:\",nb_churners,\"\\nSubscribers:\",nb_subscribers)"
   ]
  },
  {
   "cell_type": "code",
   "execution_count": 13,
   "metadata": {
    "scrolled": false
   },
   "outputs": [
    {
     "data": {
      "image/png": "[encoded data removed]",
      "text/plain": [
       "<Figure size 720x720 with 1 Axes>"
      ]
     },
     "metadata": {},
     "output_type": "display_data"
    },
    {
     "data": {
      "text/plain": [
       "<Figure size 720x720 with 0 Axes>"
      ]
     },
     "metadata": {},
     "output_type": "display_data"
    }
   ],
   "source": [
    "## Plotting\n",
    "size = [nb_churners, nb_subscribers]\n",
    "names = \"Churners\",\"Subscribers\"\n",
    "my_circle=plt.Circle( (0,0), 0.7, color='white')\n",
    "plt.pie(size, labels=names, colors=['red','green'],autopct=\"%.1f%%\")\n",
    "p=plt.gcf()\n",
    "p.gca().add_artist(my_circle)\n",
    "plt.title(\"Repartion Churners and Subscribers\")\n",
    "plt.figure()\n",
    "plt.rc('figure', figsize=[10, 10])"
   ]
  },
  {
   "cell_type": "markdown",
   "metadata": {},
   "source": [
    "**Conclusion** : There are few examples of churners in this dataset. Probably, proceding to a data augmentation could be a good idea. "
   ]
  },
  {
   "cell_type": "markdown",
   "metadata": {},
   "source": [
    "\n"
   ]
  },
  {
   "cell_type": "code",
   "execution_count": 14,
   "metadata": {},
   "outputs": [],
   "source": [
    "# State Analysis"
   ]
  },
  {
   "cell_type": "code",
   "execution_count": 16,
   "metadata": {
    "scrolled": false
   },
   "outputs": [
    {
     "data": {
      "image/png": "[encoded data removed]",
      "text/plain": [
       "<Figure size 1800x1800 with 1 Axes>"
      ]
     },
     "metadata": {
      "needs_background": "light"
     },
     "output_type": "display_data"
    },
    {
     "data": {
      "text/plain": [
       "<Figure size 1800x1800 with 0 Axes>"
      ]
     },
     "metadata": {},
     "output_type": "display_data"
    }
   ],
   "source": [
    "plt.title(\"Churn Analysis by States\")\n",
    "sns.countplot(x = 'State', hue = 'Churn', data = df_orange, palette = 'Set2')\n",
    "plt.xlabel(\"States\")\n",
    "plt.ylabel(\"# Churners / Not Churners\")\n",
    "plt.figure()\n",
    "plt.rc('figure', figsize=[25, 25])"
   ]
  },
  {
   "cell_type": "markdown",
   "metadata": {},
   "source": [
    "**Conclusion:** We can easily see that some states have more churners than others : Texas, New Jersey and Maryland (TX, NJ, MD) are the states with the biggest number of churners.\n",
    "\n",
    "Missouri (MO) is the state with the more subscribers. The distribution of Orange's Subscribers in the US seems to be uniformly distributed. \n",
    "\n",
    "**The State is maybe an usefull feature to determine who churned and who keeped his subscription.**"
   ]
  },
  {
   "cell_type": "markdown",
   "metadata": {},
   "source": [
    "\n"
   ]
  },
  {
   "cell_type": "code",
   "execution_count": 17,
   "metadata": {},
   "outputs": [],
   "source": [
    "# Customer Care Sercive "
   ]
  },
  {
   "cell_type": "code",
   "execution_count": 18,
   "metadata": {},
   "outputs": [
    {
     "name": "stderr",
     "output_type": "stream",
     "text": [
      "/Users/aurelienpayet/opt/miniconda3/lib/python3.8/site-packages/pandas/core/indexing.py:670: SettingWithCopyWarning: \n",
      "A value is trying to be set on a copy of a slice from a DataFrame\n",
      "\n",
      "See the caveats in the documentation: https://pandas.pydata.org/pandas-docs/stable/user_guide/indexing.html#returning-a-view-versus-a-copy\n",
      "  iloc._setitem_with_indexer(indexer, value)\n"
     ]
    }
   ],
   "source": [
    "## Creating dataframes for a comparison\n",
    "df_orange_agg_churn = df_orange.groupby([\"Churn\",\"Customer service calls\"]).agg({\"Customer service calls\":sum})\n",
    "df_orange_agg_churn = df_orange_agg_churn.rename(columns = {\"Customer service calls\":\"Count\"})\n",
    "df_orange_agg_churn = df_orange_agg_churn.reset_index()\n",
    "df_orange_agg_churn_churners = df_orange_agg_churn[df_orange_agg_churn[\"Churn\"]==True]\n",
    "df_orange_agg_churn_subs = df_orange_agg_churn[df_orange_agg_churn[\"Churn\"]==False]\n",
    "### Adding one line in the dataframe of subscribers to obtain a comparable dataframe\n",
    "df_orange_agg_churn_subs.loc[9]=[False,9,0]"
   ]
  },
  {
   "cell_type": "code",
   "execution_count": 19,
   "metadata": {
    "scrolled": false
   },
   "outputs": [
    {
     "data": {
      "text/plain": [
       "Text(0, 0.5, '#Calls')"
      ]
     },
     "execution_count": 19,
     "metadata": {},
     "output_type": "execute_result"
    },
    {
     "data": {
      "image/png": "[encoded data removed]",
      "text/plain": [
       "<Figure size 1800x1800 with 1 Axes>"
      ]
     },
     "metadata": {
      "needs_background": "light"
     },
     "output_type": "display_data"
    }
   ],
   "source": [
    "## Plotting\n",
    "barWidth = 0.4\n",
    "max_nb_phones_calls = max(df_orange[\"Customer service calls\"].values)\n",
    "r1 = range(max_nb_phones_calls+1)\n",
    "r2 = [x + barWidth for x in r1]\n",
    "churners_calls = list(df_orange_agg_churn_churners.Count)\n",
    "subscribers_calls = list(df_orange_agg_churn_subs.Count) \n",
    "plt.title(\"Comparison Churners/Subscribers' Customer Care Service Phone Calls\")\n",
    "plt.bar(r1, churners_calls, width = barWidth, color = ['red' for i in churners_calls],linewidth = 2, label = \"Churners\")\n",
    "plt.bar(r2, subscribers_calls, width = barWidth, color = ['green' for i in churners_calls],linewidth = 4, label = \"Subscribers\")\n",
    "plt.xticks([r + barWidth / 2 for r in range(len(churners_calls))], ['0','1', '2', '3','4','5','6','7','8','9'])\n",
    "plt.legend(loc = \"upper left\")\n",
    "plt.xlabel(\"Type\")\n",
    "plt.ylabel(\"#Calls\")"
   ]
  },
  {
   "cell_type": "markdown",
   "metadata": {},
   "source": [
    "**Conslusion:** Current Subscribers seems to be people who call between 1 and 3 times the Customer Care Service (CCS). People who contact 5 or more times the CCS are mostly churners. \n",
    "\n",
    "This features will probably influence the prediction of churners. "
   ]
  },
  {
   "cell_type": "markdown",
   "metadata": {},
   "source": [
    "\n"
   ]
  },
  {
   "cell_type": "code",
   "execution_count": 20,
   "metadata": {},
   "outputs": [],
   "source": [
    "# Analysis of Options"
   ]
  },
  {
   "cell_type": "markdown",
   "metadata": {},
   "source": [
    "We will analyze if having an option (International or Voice Mail) potentially influence the churn rate. "
   ]
  },
  {
   "cell_type": "code",
   "execution_count": 21,
   "metadata": {},
   "outputs": [],
   "source": [
    "## Creating an option to make the analysis\n",
    "df_orange_options = df_orange.copy()\n",
    "def options(df):\n",
    "    if ((df[\"International plan\"] =='Yes') & (df[\"Voice mail plan\"] == 'Yes')):\n",
    "        result = 2\n",
    "    elif ((df[\"International plan\"] =='Yes') & (df[\"Voice mail plan\"] == 'No')):\n",
    "          result = 1\n",
    "    elif ((df[\"International plan\"] =='No') & (df[\"Voice mail plan\"] == 'Yes')):\n",
    "          result = 1\n",
    "    else :\n",
    "          result = 0\n",
    "    return result \n",
    "df_orange_options[\"Nb_Options\"]=df_orange_options.apply(lambda row: options(row), axis = 1)"
   ]
  },
  {
   "cell_type": "code",
   "execution_count": 23,
   "metadata": {},
   "outputs": [
    {
     "data": {
      "image/png": "[encoded data removed]",
      "text/plain": [
       "<Figure size 720x720 with 1 Axes>"
      ]
     },
     "metadata": {
      "needs_background": "light"
     },
     "output_type": "display_data"
    },
    {
     "data": {
      "text/plain": [
       "<Figure size 720x720 with 0 Axes>"
      ]
     },
     "metadata": {},
     "output_type": "display_data"
    }
   ],
   "source": [
    "## Plotting\n",
    "plt.title(\"Churner vs Subscribers per Number of Options\")\n",
    "sns.countplot(x = 'Nb_Options', hue = 'Churn', data = df_orange_options, palette = 'Set2')\n",
    "plt.xlabel(\"Nb Options\")\n",
    "plt.ylabel(\"# Churners / Subs\")\n",
    "plt.figure()\n",
    "plt.rc('figure', figsize=[10, 10])"
   ]
  },
  {
   "cell_type": "markdown",
   "metadata": {},
   "source": [
    "**Conclusion :** We can easily remark than few people have an option. \n",
    "\n",
    "However, people who have at least one option generally remain. \n",
    "\n",
    "Probably, options has no impact on the churn. "
   ]
  },
  {
   "cell_type": "markdown",
   "metadata": {},
   "source": [
    "\n"
   ]
  },
  {
   "cell_type": "code",
   "execution_count": 24,
   "metadata": {},
   "outputs": [],
   "source": [
    "# Analysis of Account Length"
   ]
  },
  {
   "cell_type": "code",
   "execution_count": 25,
   "metadata": {},
   "outputs": [],
   "source": [
    "df_orange_churn = df_orange[df_orange[\"Churn\"]==True]\n",
    "df_orange_subs = df_orange[df_orange[\"Churn\"]==False] \n",
    "list_account_length_churn = list(df_orange_churn[\"Account length\"])\n",
    "list_account_length_subs = list(df_orange_subs[\"Account length\"])\n",
    "\n",
    "## For churners\n",
    "list_0_20_churn = []\n",
    "list_20_40_churn = []\n",
    "list_40_60_churn = []\n",
    "list_60_80_churn = []\n",
    "list_80_100_churn = []\n",
    "list_100_120_churn = []\n",
    "list_120_140_churn = []\n",
    "list_140_180_churn = []\n",
    "list_180_220_churn = []\n",
    "list_220_260_churn = []\n",
    "\n",
    "for i in list_account_length_churn : \n",
    "    if ((i>=0) & (i <20)) :\n",
    "        list_0_20_churn.append(i)\n",
    "    elif ((i>=20) & (i <40)): \n",
    "        list_20_40_churn.append(i)\n",
    "    elif ((i>=40) & (i <60)): \n",
    "        list_40_60_churn.append(i)    \n",
    "    elif ((i>=60) & (i <80)): \n",
    "        list_60_80_churn.append(i)\n",
    "    elif ((i>=80) & (i <100)) :\n",
    "        list_80_100_churn.append(i)\n",
    "    elif ((i>=100) & (i <120)) :\n",
    "        list_100_120_churn.append(i)\n",
    "    elif ((i>=120) & (i <140)) : \n",
    "        list_120_140_churn.append(i)\n",
    "    elif ((i>=140) & (i <180)):\n",
    "        list_140_180_churn.append(i)\n",
    "    elif ((i>=180) & (i <220)): \n",
    "        list_180_220_churn.append(i)\n",
    "    else : \n",
    "        list_220_260_churn.append(i)"
   ]
  },
  {
   "cell_type": "code",
   "execution_count": 26,
   "metadata": {},
   "outputs": [],
   "source": [
    "## For subscribers\n",
    "list_0_20_subs = []\n",
    "list_20_40_subs = []\n",
    "list_40_60_subs = []\n",
    "list_60_80_subs = []\n",
    "list_80_100_subs = []\n",
    "list_100_120_subs = []\n",
    "list_120_140_subs = []\n",
    "list_140_180_subs = []\n",
    "list_180_220_subs = []\n",
    "list_220_260_subs = []\n",
    "\n",
    "for i in list_account_length_subs : \n",
    "    if ((i>=0) & (i <20)) :\n",
    "        list_0_20_subs.append(i)\n",
    "    elif ((i>=20) & (i <40)): \n",
    "        list_20_40_subs.append(i)\n",
    "    elif ((i>=40) & (i <60)): \n",
    "        list_40_60_subs.append(i)    \n",
    "    elif ((i>=60) & (i <80)): \n",
    "        list_60_80_subs.append(i)\n",
    "    elif ((i>=80) & (i <100)) :\n",
    "        list_80_100_subs.append(i)\n",
    "    elif ((i>=100) & (i <120)) :\n",
    "        list_100_120_subs.append(i)\n",
    "    elif ((i>=120) & (i <140)) : \n",
    "        list_120_140_subs.append(i)\n",
    "    elif ((i>=140) & (i <180)):\n",
    "        list_140_180_subs.append(i)\n",
    "    elif ((i>=180) & (i <220)): \n",
    "        list_180_220_subs.append(i)\n",
    "    else : \n",
    "        list_220_260_subs.append(i)"
   ]
  },
  {
   "cell_type": "code",
   "execution_count": 27,
   "metadata": {},
   "outputs": [],
   "source": [
    "## Agregation \n",
    "list_al_churn = [len(list_0_20_churn),len(list_20_40_churn),len(list_40_60_churn),len(list_60_80_churn),len(list_80_100_churn),len(list_100_120_churn),len(list_120_140_churn),len(list_140_180_churn),len(list_180_220_churn),len(list_220_260_churn)]                                                                                             \n",
    "list_al_subs = [len(list_0_20_subs),len(list_20_40_subs),len(list_40_60_subs),len(list_60_80_subs),len(list_80_100_subs),len(list_100_120_subs),len(list_120_140_subs),len(list_140_180_subs),len(list_180_220_subs),len(list_220_260_subs)]\n",
    "                                                                                                "
   ]
  },
  {
   "cell_type": "code",
   "execution_count": 28,
   "metadata": {},
   "outputs": [
    {
     "data": {
      "text/plain": [
       "Text(0, 0.5, '# Nb Users')"
      ]
     },
     "execution_count": 28,
     "metadata": {},
     "output_type": "execute_result"
    },
    {
     "data": {
      "image/png": "[encoded data removed]",
      "text/plain": [
       "<Figure size 720x720 with 1 Axes>"
      ]
     },
     "metadata": {
      "needs_background": "light"
     },
     "output_type": "display_data"
    }
   ],
   "source": [
    "## Plotting\n",
    "r1 = range(len(list_al_churn))\n",
    "r2 = [x + barWidth for x in r1]\n",
    "plt.title(\"Comparison Churners/Subscribers' Account Length\")\n",
    "plt.bar(r1, list_al_churn, width = barWidth, color = ['red' for i in list_al_churn],linewidth = 2, label = \"Churners\")\n",
    "plt.bar(r2, list_al_subs, width = barWidth, color = ['green' for i in list_al_churn],linewidth = 4, label = \"Subscribers\")\n",
    "plt.xticks([r + barWidth / 2 for r in range(len(list_al_churn))], ['0-20','20-40', '40-60', '60-80','80-100','100-120','120-140','140-180','180-220','220-260'])\n",
    "plt.legend(loc = \"upper left\")\n",
    "plt.xlabel(\"Account Length\")\n",
    "plt.ylabel(\"# Nb Users\")"
   ]
  },
  {
   "cell_type": "markdown",
   "metadata": {},
   "source": [
    "**Conclusion:** We can see that the churners are mostly people with an account length between 60 months and 180 months. \n",
    "\n",
    "It can be surprising because we could think that people with a small account length were people who tend to churn because they were in trial or did not like the service. "
   ]
  },
  {
   "cell_type": "code",
   "execution_count": 29,
   "metadata": {},
   "outputs": [],
   "source": [
    "# Other Analysis"
   ]
  },
  {
   "cell_type": "markdown",
   "metadata": {},
   "source": [
    "We decided to stop here the statistical analysis because we analyzed sufficently the dataset. We succeeded in bringing out different patterns and discribing the dataset. "
   ]
  },
  {
   "cell_type": "markdown",
   "metadata": {},
   "source": [
    "### "
   ]
  },
  {
   "cell_type": "markdown",
   "metadata": {},
   "source": [
    "# One Hot Encoding"
   ]
  },
  {
   "cell_type": "code",
   "execution_count": 29,
   "metadata": {},
   "outputs": [],
   "source": [
    "labelencoder = LabelEncoder()\n",
    "df_orange[\"State\"]=labelencoder.fit_transform(df_orange['State'])\n",
    "df_orange[\"International plan\"]=labelencoder.fit_transform(df_orange['International plan'])\n",
    "df_orange[\"Voice mail plan\"]=labelencoder.fit_transform(df_orange['Voice mail plan'])\n",
    "df_orange[\"Churn\"]=labelencoder.fit_transform(df_orange['Churn'])"
   ]
  },
  {
   "cell_type": "code",
   "execution_count": 30,
   "metadata": {
    "scrolled": false
   },
   "outputs": [
    {
     "data": {
      "text/html": [
       "<div>\n",
       "<style scoped>\n",
       "    .dataframe tbody tr th:only-of-type {\n",
       "        vertical-align: middle;\n",
       "    }\n",
       "\n",
       "    .dataframe tbody tr th {\n",
       "        vertical-align: top;\n",
       "    }\n",
       "\n",
       "    .dataframe thead th {\n",
       "        text-align: right;\n",
       "    }\n",
       "</style>\n",
       "<table border=\"1\" class=\"dataframe\">\n",
       "  <thead>\n",
       "    <tr style=\"text-align: right;\">\n",
       "      <th></th>\n",
       "      <th>State</th>\n",
       "      <th>Account length</th>\n",
       "      <th>Area code</th>\n",
       "      <th>International plan</th>\n",
       "      <th>Voice mail plan</th>\n",
       "      <th>Number vmail messages</th>\n",
       "      <th>Total day minutes</th>\n",
       "      <th>Total day calls</th>\n",
       "      <th>Total day charge</th>\n",
       "      <th>Total eve minutes</th>\n",
       "      <th>Total eve calls</th>\n",
       "      <th>Total eve charge</th>\n",
       "      <th>Total night minutes</th>\n",
       "      <th>Total night calls</th>\n",
       "      <th>Total night charge</th>\n",
       "      <th>Total intl minutes</th>\n",
       "      <th>Total intl calls</th>\n",
       "      <th>Total intl charge</th>\n",
       "      <th>Customer service calls</th>\n",
       "      <th>Churn</th>\n",
       "    </tr>\n",
       "  </thead>\n",
       "  <tbody>\n",
       "    <tr>\n",
       "      <th>0</th>\n",
       "      <td>16</td>\n",
       "      <td>128</td>\n",
       "      <td>415</td>\n",
       "      <td>0</td>\n",
       "      <td>1</td>\n",
       "      <td>25</td>\n",
       "      <td>265.1</td>\n",
       "      <td>110</td>\n",
       "      <td>45.07</td>\n",
       "      <td>197.4</td>\n",
       "      <td>99</td>\n",
       "      <td>16.78</td>\n",
       "      <td>244.7</td>\n",
       "      <td>91</td>\n",
       "      <td>11.01</td>\n",
       "      <td>10.0</td>\n",
       "      <td>3</td>\n",
       "      <td>2.70</td>\n",
       "      <td>1</td>\n",
       "      <td>0</td>\n",
       "    </tr>\n",
       "    <tr>\n",
       "      <th>1</th>\n",
       "      <td>35</td>\n",
       "      <td>107</td>\n",
       "      <td>415</td>\n",
       "      <td>0</td>\n",
       "      <td>1</td>\n",
       "      <td>26</td>\n",
       "      <td>161.6</td>\n",
       "      <td>123</td>\n",
       "      <td>27.47</td>\n",
       "      <td>195.5</td>\n",
       "      <td>103</td>\n",
       "      <td>16.62</td>\n",
       "      <td>254.4</td>\n",
       "      <td>103</td>\n",
       "      <td>11.45</td>\n",
       "      <td>13.7</td>\n",
       "      <td>3</td>\n",
       "      <td>3.70</td>\n",
       "      <td>1</td>\n",
       "      <td>0</td>\n",
       "    </tr>\n",
       "    <tr>\n",
       "      <th>2</th>\n",
       "      <td>31</td>\n",
       "      <td>137</td>\n",
       "      <td>415</td>\n",
       "      <td>0</td>\n",
       "      <td>0</td>\n",
       "      <td>0</td>\n",
       "      <td>243.4</td>\n",
       "      <td>114</td>\n",
       "      <td>41.38</td>\n",
       "      <td>121.2</td>\n",
       "      <td>110</td>\n",
       "      <td>10.30</td>\n",
       "      <td>162.6</td>\n",
       "      <td>104</td>\n",
       "      <td>7.32</td>\n",
       "      <td>12.2</td>\n",
       "      <td>5</td>\n",
       "      <td>3.29</td>\n",
       "      <td>0</td>\n",
       "      <td>0</td>\n",
       "    </tr>\n",
       "    <tr>\n",
       "      <th>3</th>\n",
       "      <td>35</td>\n",
       "      <td>84</td>\n",
       "      <td>408</td>\n",
       "      <td>1</td>\n",
       "      <td>0</td>\n",
       "      <td>0</td>\n",
       "      <td>299.4</td>\n",
       "      <td>71</td>\n",
       "      <td>50.90</td>\n",
       "      <td>61.9</td>\n",
       "      <td>88</td>\n",
       "      <td>5.26</td>\n",
       "      <td>196.9</td>\n",
       "      <td>89</td>\n",
       "      <td>8.86</td>\n",
       "      <td>6.6</td>\n",
       "      <td>7</td>\n",
       "      <td>1.78</td>\n",
       "      <td>2</td>\n",
       "      <td>0</td>\n",
       "    </tr>\n",
       "    <tr>\n",
       "      <th>4</th>\n",
       "      <td>36</td>\n",
       "      <td>75</td>\n",
       "      <td>415</td>\n",
       "      <td>1</td>\n",
       "      <td>0</td>\n",
       "      <td>0</td>\n",
       "      <td>166.7</td>\n",
       "      <td>113</td>\n",
       "      <td>28.34</td>\n",
       "      <td>148.3</td>\n",
       "      <td>122</td>\n",
       "      <td>12.61</td>\n",
       "      <td>186.9</td>\n",
       "      <td>121</td>\n",
       "      <td>8.41</td>\n",
       "      <td>10.1</td>\n",
       "      <td>3</td>\n",
       "      <td>2.73</td>\n",
       "      <td>3</td>\n",
       "      <td>0</td>\n",
       "    </tr>\n",
       "    <tr>\n",
       "      <th>...</th>\n",
       "      <td>...</td>\n",
       "      <td>...</td>\n",
       "      <td>...</td>\n",
       "      <td>...</td>\n",
       "      <td>...</td>\n",
       "      <td>...</td>\n",
       "      <td>...</td>\n",
       "      <td>...</td>\n",
       "      <td>...</td>\n",
       "      <td>...</td>\n",
       "      <td>...</td>\n",
       "      <td>...</td>\n",
       "      <td>...</td>\n",
       "      <td>...</td>\n",
       "      <td>...</td>\n",
       "      <td>...</td>\n",
       "      <td>...</td>\n",
       "      <td>...</td>\n",
       "      <td>...</td>\n",
       "      <td>...</td>\n",
       "    </tr>\n",
       "    <tr>\n",
       "      <th>3328</th>\n",
       "      <td>48</td>\n",
       "      <td>114</td>\n",
       "      <td>415</td>\n",
       "      <td>0</td>\n",
       "      <td>1</td>\n",
       "      <td>26</td>\n",
       "      <td>137.1</td>\n",
       "      <td>88</td>\n",
       "      <td>23.31</td>\n",
       "      <td>155.7</td>\n",
       "      <td>125</td>\n",
       "      <td>13.23</td>\n",
       "      <td>247.6</td>\n",
       "      <td>94</td>\n",
       "      <td>11.14</td>\n",
       "      <td>11.5</td>\n",
       "      <td>7</td>\n",
       "      <td>3.11</td>\n",
       "      <td>2</td>\n",
       "      <td>0</td>\n",
       "    </tr>\n",
       "    <tr>\n",
       "      <th>3329</th>\n",
       "      <td>1</td>\n",
       "      <td>106</td>\n",
       "      <td>408</td>\n",
       "      <td>0</td>\n",
       "      <td>1</td>\n",
       "      <td>29</td>\n",
       "      <td>83.6</td>\n",
       "      <td>131</td>\n",
       "      <td>14.21</td>\n",
       "      <td>203.9</td>\n",
       "      <td>131</td>\n",
       "      <td>17.33</td>\n",
       "      <td>229.5</td>\n",
       "      <td>73</td>\n",
       "      <td>10.33</td>\n",
       "      <td>8.1</td>\n",
       "      <td>3</td>\n",
       "      <td>2.19</td>\n",
       "      <td>1</td>\n",
       "      <td>0</td>\n",
       "    </tr>\n",
       "    <tr>\n",
       "      <th>3330</th>\n",
       "      <td>46</td>\n",
       "      <td>60</td>\n",
       "      <td>415</td>\n",
       "      <td>0</td>\n",
       "      <td>0</td>\n",
       "      <td>0</td>\n",
       "      <td>193.9</td>\n",
       "      <td>118</td>\n",
       "      <td>32.96</td>\n",
       "      <td>85.0</td>\n",
       "      <td>110</td>\n",
       "      <td>7.23</td>\n",
       "      <td>210.1</td>\n",
       "      <td>134</td>\n",
       "      <td>9.45</td>\n",
       "      <td>13.2</td>\n",
       "      <td>8</td>\n",
       "      <td>3.56</td>\n",
       "      <td>3</td>\n",
       "      <td>0</td>\n",
       "    </tr>\n",
       "    <tr>\n",
       "      <th>3331</th>\n",
       "      <td>49</td>\n",
       "      <td>159</td>\n",
       "      <td>415</td>\n",
       "      <td>0</td>\n",
       "      <td>0</td>\n",
       "      <td>0</td>\n",
       "      <td>169.8</td>\n",
       "      <td>114</td>\n",
       "      <td>28.87</td>\n",
       "      <td>197.7</td>\n",
       "      <td>105</td>\n",
       "      <td>16.80</td>\n",
       "      <td>193.7</td>\n",
       "      <td>82</td>\n",
       "      <td>8.72</td>\n",
       "      <td>11.6</td>\n",
       "      <td>4</td>\n",
       "      <td>3.13</td>\n",
       "      <td>1</td>\n",
       "      <td>0</td>\n",
       "    </tr>\n",
       "    <tr>\n",
       "      <th>3332</th>\n",
       "      <td>6</td>\n",
       "      <td>184</td>\n",
       "      <td>510</td>\n",
       "      <td>1</td>\n",
       "      <td>0</td>\n",
       "      <td>0</td>\n",
       "      <td>213.8</td>\n",
       "      <td>105</td>\n",
       "      <td>36.35</td>\n",
       "      <td>159.6</td>\n",
       "      <td>84</td>\n",
       "      <td>13.57</td>\n",
       "      <td>139.2</td>\n",
       "      <td>137</td>\n",
       "      <td>6.26</td>\n",
       "      <td>5.0</td>\n",
       "      <td>10</td>\n",
       "      <td>1.35</td>\n",
       "      <td>2</td>\n",
       "      <td>0</td>\n",
       "    </tr>\n",
       "  </tbody>\n",
       "</table>\n",
       "<p>3333 rows × 20 columns</p>\n",
       "</div>"
      ],
      "text/plain": [
       "      State  Account length  Area code  International plan  Voice mail plan  \\\n",
       "0        16             128        415                   0                1   \n",
       "1        35             107        415                   0                1   \n",
       "2        31             137        415                   0                0   \n",
       "3        35              84        408                   1                0   \n",
       "4        36              75        415                   1                0   \n",
       "...     ...             ...        ...                 ...              ...   \n",
       "3328     48             114        415                   0                1   \n",
       "3329      1             106        408                   0                1   \n",
       "3330     46              60        415                   0                0   \n",
       "3331     49             159        415                   0                0   \n",
       "3332      6             184        510                   1                0   \n",
       "\n",
       "      Number vmail messages  Total day minutes  Total day calls  \\\n",
       "0                        25              265.1              110   \n",
       "1                        26              161.6              123   \n",
       "2                         0              243.4              114   \n",
       "3                         0              299.4               71   \n",
       "4                         0              166.7              113   \n",
       "...                     ...                ...              ...   \n",
       "3328                     26              137.1               88   \n",
       "3329                     29               83.6              131   \n",
       "3330                      0              193.9              118   \n",
       "3331                      0              169.8              114   \n",
       "3332                      0              213.8              105   \n",
       "\n",
       "      Total day charge  Total eve minutes  Total eve calls  Total eve charge  \\\n",
       "0                45.07              197.4               99             16.78   \n",
       "1                27.47              195.5              103             16.62   \n",
       "2                41.38              121.2              110             10.30   \n",
       "3                50.90               61.9               88              5.26   \n",
       "4                28.34              148.3              122             12.61   \n",
       "...                ...                ...              ...               ...   \n",
       "3328             23.31              155.7              125             13.23   \n",
       "3329             14.21              203.9              131             17.33   \n",
       "3330             32.96               85.0              110              7.23   \n",
       "3331             28.87              197.7              105             16.80   \n",
       "3332             36.35              159.6               84             13.57   \n",
       "\n",
       "      Total night minutes  Total night calls  Total night charge  \\\n",
       "0                   244.7                 91               11.01   \n",
       "1                   254.4                103               11.45   \n",
       "2                   162.6                104                7.32   \n",
       "3                   196.9                 89                8.86   \n",
       "4                   186.9                121                8.41   \n",
       "...                   ...                ...                 ...   \n",
       "3328                247.6                 94               11.14   \n",
       "3329                229.5                 73               10.33   \n",
       "3330                210.1                134                9.45   \n",
       "3331                193.7                 82                8.72   \n",
       "3332                139.2                137                6.26   \n",
       "\n",
       "      Total intl minutes  Total intl calls  Total intl charge  \\\n",
       "0                   10.0                 3               2.70   \n",
       "1                   13.7                 3               3.70   \n",
       "2                   12.2                 5               3.29   \n",
       "3                    6.6                 7               1.78   \n",
       "4                   10.1                 3               2.73   \n",
       "...                  ...               ...                ...   \n",
       "3328                11.5                 7               3.11   \n",
       "3329                 8.1                 3               2.19   \n",
       "3330                13.2                 8               3.56   \n",
       "3331                11.6                 4               3.13   \n",
       "3332                 5.0                10               1.35   \n",
       "\n",
       "      Customer service calls  Churn  \n",
       "0                          1      0  \n",
       "1                          1      0  \n",
       "2                          0      0  \n",
       "3                          2      0  \n",
       "4                          3      0  \n",
       "...                      ...    ...  \n",
       "3328                       2      0  \n",
       "3329                       1      0  \n",
       "3330                       3      0  \n",
       "3331                       1      0  \n",
       "3332                       2      0  \n",
       "\n",
       "[3333 rows x 20 columns]"
      ]
     },
     "execution_count": 30,
     "metadata": {},
     "output_type": "execute_result"
    }
   ],
   "source": [
    "df_orange"
   ]
  },
  {
   "cell_type": "markdown",
   "metadata": {},
   "source": [
    "We encoded the different variables. "
   ]
  },
  {
   "cell_type": "markdown",
   "metadata": {},
   "source": [
    "# Analysis of the Correlation"
   ]
  },
  {
   "cell_type": "markdown",
   "metadata": {},
   "source": [
    "### Correlation Matrix"
   ]
  },
  {
   "cell_type": "code",
   "execution_count": 31,
   "metadata": {
    "scrolled": false
   },
   "outputs": [
    {
     "data": {
      "image/png": "[encoded data removed]",
      "text/plain": [
       "<Figure size 720x720 with 2 Axes>"
      ]
     },
     "metadata": {
      "needs_background": "light"
     },
     "output_type": "display_data"
    }
   ],
   "source": [
    "def plotCorrelationMatrix(corr):\n",
    "    mask = np.zeros_like(corr, dtype=np.bool)\n",
    "    mask[np.triu_indices_from(mask)] = True\n",
    "    cmap = sns.diverging_palette(225, 8, as_cmap=True)\n",
    "    sns.heatmap(corr, mask=mask, cmap=cmap)\n",
    "    plt.rc('figure', figsize=[30, 30])\n",
    "\n",
    "data_correlation = df_orange.corr()\n",
    "plotCorrelationMatrix(data_correlation)"
   ]
  },
  {
   "cell_type": "markdown",
   "metadata": {},
   "source": [
    "### "
   ]
  },
  {
   "cell_type": "markdown",
   "metadata": {},
   "source": [
    "# Train Test Split"
   ]
  },
  {
   "cell_type": "code",
   "execution_count": 32,
   "metadata": {},
   "outputs": [],
   "source": [
    "orange_result = df_orange[\"Churn\"]\n",
    "orange_features = df_orange.drop([\"Churn\"],axis = 1)"
   ]
  },
  {
   "cell_type": "code",
   "execution_count": 33,
   "metadata": {},
   "outputs": [
    {
     "name": "stdout",
     "output_type": "stream",
     "text": [
      "(2222, 19) (1111, 19) (2222,) (1111,)\n"
     ]
    }
   ],
   "source": [
    "X,y = orange_features, orange_result\n",
    "X_train, X_test, y_train, y_test = train_test_split(X, y, test_size=1/3)\n",
    "print(X_train.shape, X_test.shape, y_train.shape, y_test.shape)"
   ]
  },
  {
   "cell_type": "markdown",
   "metadata": {},
   "source": [
    "### "
   ]
  },
  {
   "cell_type": "markdown",
   "metadata": {},
   "source": [
    "# Prediction"
   ]
  },
  {
   "cell_type": "markdown",
   "metadata": {},
   "source": [
    "Let's start the most interesting part : the prediction ! \n",
    "\n",
    "To make the better prediction possible, **we will use differents models** such as Logistic Regression, Decision Trees, Random Forest, Boosting, SVMs,... \n",
    "\n",
    "To evaluate our prediction, we will use different metrics such as **accuracy, f1-score or the ROC Curve**. \n",
    "\n",
    "When the best model will be found, **we will try to tune it** more thanks to specific feature engineering, modification of the paramaeters, etc.  "
   ]
  },
  {
   "cell_type": "markdown",
   "metadata": {},
   "source": [
    "### Scaling "
   ]
  },
  {
   "cell_type": "markdown",
   "metadata": {},
   "source": [
    "Before starting, we will transform our X_train and X_test datasets. \n",
    "\n",
    "We **will scal them and create Z_train and Z_test**. These new dataframes will be probably used in several modelisations. "
   ]
  },
  {
   "cell_type": "code",
   "execution_count": 34,
   "metadata": {},
   "outputs": [],
   "source": [
    "stds = preprocessing.StandardScaler()\n",
    "Z_train = stds.fit_transform(X_train)\n",
    "Z_test = stds.transform(X_test)"
   ]
  },
  {
   "cell_type": "markdown",
   "metadata": {},
   "source": [
    "### Usefull for the Neural Networks"
   ]
  },
  {
   "cell_type": "markdown",
   "metadata": {},
   "source": [
    "#### Tensors "
   ]
  },
  {
   "cell_type": "code",
   "execution_count": 35,
   "metadata": {},
   "outputs": [],
   "source": [
    "tensor_ZTrain = torch.FloatTensor(Z_train)\n",
    "tensor_yTrain = torch.FloatTensor(list(y_train))\n",
    "tensor_ZTest = torch.FloatTensor(Z_test)\n",
    "tensor_yTest = torch.FloatTensor(list(y_test))"
   ]
  },
  {
   "cell_type": "markdown",
   "metadata": {},
   "source": [
    "#### Training function"
   ]
  },
  {
   "cell_type": "code",
   "execution_count": 36,
   "metadata": {},
   "outputs": [],
   "source": [
    "def train_session(X,y,classifier,criterion,optimizer,n_epochs=10000):\n",
    "    losses = np.zeros(n_epochs)\n",
    "    for iter in range(n_epochs):\n",
    "        y_pred = classifier(X)\n",
    "        perte = criterion(y_pred.squeeze(),y)\n",
    "        losses[iter] = perte.item()\n",
    "        perte.backward()\n",
    "        optimizer.step()\n",
    "    return losses\n",
    "\n",
    "#mlp.train()\n",
    "#epoch = 10000\n",
    "#for epoch in range(epoch):\n",
    "    #optimizer.zero_grad()\n",
    "    #y_pred = mlp(tensor_ZTrain)\n",
    "    #loss = criterion(y_pred.squeeze(), tensor_yTrain)\n",
    "   \n",
    "    #print('Epoch {}: train loss: {}'.format(epoch, loss.item()))\n",
    "    #loss.backward()\n",
    "    #optimizer.step()"
   ]
  },
  {
   "cell_type": "markdown",
   "metadata": {},
   "source": [
    "#### Testing"
   ]
  },
  {
   "cell_type": "code",
   "execution_count": 37,
   "metadata": {},
   "outputs": [],
   "source": [
    "def test_session(X,y,classifier):\n",
    "    tensor_proba = classifier(X)\n",
    "    proba = tensor_proba.squeeze().detach().numpy()\n",
    "    pred = np.where(proba > 0.5, 1, 0)\n",
    "    yobs = y.detach().numpy()\n",
    "    mc = metrics.confusion_matrix(yobs,pred)\n",
    "    acc = metrics.accuracy_score(yobs,pred)\n",
    "    return proba, mc, acc, pred"
   ]
  },
  {
   "cell_type": "markdown",
   "metadata": {},
   "source": [
    "### Neural Network : Perceptron"
   ]
  },
  {
   "cell_type": "markdown",
   "metadata": {},
   "source": [
    "#### Creation of the Perceptron"
   ]
  },
  {
   "cell_type": "code",
   "execution_count": 38,
   "metadata": {},
   "outputs": [],
   "source": [
    "class Perceptron(torch.nn.Module):\n",
    "    def __init__(self,p):\n",
    "        super(Perceptron,self).__init__()\n",
    "        self.layer1 = torch.nn.Linear(p,1)\n",
    "        self.ft1 = torch.nn.Sigmoid()\n",
    "    def forward(self,x):\n",
    "        comb_lin = self.layer1(x)\n",
    "        proba = self.ft1(comb_lin)\n",
    "        return proba"
   ]
  },
  {
   "cell_type": "code",
   "execution_count": 39,
   "metadata": {},
   "outputs": [],
   "source": [
    "# Choosing a criterion for gradient descent \n",
    "critere_perceptron = torch.nn.BCEWithLogitsLoss()"
   ]
  },
  {
   "cell_type": "code",
   "execution_count": 40,
   "metadata": {},
   "outputs": [],
   "source": [
    "# Instanciation\n",
    "ps = Perceptron(tensor_ZTrain.shape[1])"
   ]
  },
  {
   "cell_type": "code",
   "execution_count": 41,
   "metadata": {},
   "outputs": [],
   "source": [
    "# Optimization\n",
    "optimiseur_ps = torch.optim.Adam(ps.parameters())"
   ]
  },
  {
   "cell_type": "markdown",
   "metadata": {},
   "source": [
    "#### Training"
   ]
  },
  {
   "cell_type": "code",
   "execution_count": 42,
   "metadata": {},
   "outputs": [],
   "source": [
    "pertes = train_session(tensor_ZTrain,tensor_yTrain,ps,critere_perceptron,optimiseur_ps)"
   ]
  },
  {
   "cell_type": "code",
   "execution_count": 44,
   "metadata": {
    "scrolled": false
   },
   "outputs": [
    {
     "data": {
      "image/png": "[encoded data removed]",
      "text/plain": [
       "<Figure size 720x720 with 1 Axes>"
      ]
     },
     "metadata": {
      "needs_background": "light"
     },
     "output_type": "display_data"
    },
    {
     "data": {
      "text/plain": [
       "<Figure size 720x720 with 0 Axes>"
      ]
     },
     "metadata": {},
     "output_type": "display_data"
    }
   ],
   "source": [
    "plt.plot(np.arange(0,pertes.shape[0]),pertes,color = \"green\") \n",
    "plt.title(\"Evolution fonction de perte\") \n",
    "plt.xlabel(\"Epochs\")\n",
    "plt.ylabel(\"Loss\")\n",
    "plt.figure()\n",
    "plt.rc('figure', figsize=[10, 10])"
   ]
  },
  {
   "cell_type": "markdown",
   "metadata": {},
   "source": [
    "#### Prediction"
   ]
  },
  {
   "cell_type": "code",
   "execution_count": 45,
   "metadata": {},
   "outputs": [],
   "source": [
    "proba, mc, acc, y_pred = test_session(tensor_ZTest,tensor_yTest,ps)"
   ]
  },
  {
   "cell_type": "markdown",
   "metadata": {},
   "source": [
    "#### Statistics"
   ]
  },
  {
   "cell_type": "code",
   "execution_count": 46,
   "metadata": {
    "scrolled": true
   },
   "outputs": [
    {
     "name": "stdout",
     "output_type": "stream",
     "text": [
      "              precision    recall  f1-score   support\n",
      "\n",
      "           0       0.93      0.93      0.93       957\n",
      "           1       0.56      0.58      0.57       154\n",
      "\n",
      "    accuracy                           0.88      1111\n",
      "   macro avg       0.75      0.75      0.75      1111\n",
      "weighted avg       0.88      0.88      0.88      1111\n",
      "\n"
     ]
    }
   ],
   "source": [
    "print(metrics.classification_report(y_test,y_pred))"
   ]
  },
  {
   "cell_type": "code",
   "execution_count": 47,
   "metadata": {},
   "outputs": [
    {
     "name": "stdout",
     "output_type": "stream",
     "text": [
      "[[888  69]\n",
      " [ 65  89]]\n"
     ]
    }
   ],
   "source": [
    "print(mc)"
   ]
  },
  {
   "cell_type": "markdown",
   "metadata": {},
   "source": [
    "#### Network Parameters"
   ]
  },
  {
   "cell_type": "code",
   "execution_count": 48,
   "metadata": {
    "scrolled": true
   },
   "outputs": [
    {
     "name": "stdout",
     "output_type": "stream",
     "text": [
      "Parameter containing:\n",
      "tensor([[ 0.2310,  0.0635, -0.3639, 11.4317, -5.1321, -0.1012,  3.7223,  0.5887,\n",
      "          3.8514,  2.0290, -0.1977,  1.6666,  1.0205, -0.5740,  1.1854,  0.1130,\n",
      "          0.4251,  0.8439, -1.2150]], requires_grad=True)\n"
     ]
    }
   ],
   "source": [
    "print(ps.layer1.weight)"
   ]
  },
  {
   "cell_type": "code",
   "execution_count": 49,
   "metadata": {},
   "outputs": [
    {
     "name": "stdout",
     "output_type": "stream",
     "text": [
      "Parameter containing:\n",
      "tensor([-10.9838], requires_grad=True)\n"
     ]
    }
   ],
   "source": [
    "print(ps.layer1.bias)"
   ]
  },
  {
   "cell_type": "markdown",
   "metadata": {},
   "source": [
    "### Neural Network : Multi-Layer Perceptron"
   ]
  },
  {
   "cell_type": "markdown",
   "metadata": {},
   "source": [
    "#### Creation of the Multi-Layer Perceptron"
   ]
  },
  {
   "cell_type": "code",
   "execution_count": 50,
   "metadata": {},
   "outputs": [],
   "source": [
    "class MLP(torch.nn.Module):\n",
    "    def __init__(self, input_size, hidden_size):\n",
    "        super(MLP,self).__init__()\n",
    "        self.input_size = input_size\n",
    "        self.hidden_size  = hidden_size\n",
    "        self.layer1 = torch.nn.Linear(self.input_size, self.hidden_size)\n",
    "        self.ft1 = torch.nn.ReLU()\n",
    "        self.layer2 = torch.nn.Linear(self.hidden_size,1)\n",
    "        self.ft2 = torch.nn.Sigmoid()\n",
    "    # Exit of the network\n",
    "    def forward(self,x):\n",
    "        # First Linear Combination\n",
    "        comb_lin_1 = self.layer1(x)\n",
    "        out_1 = self.ft1(comb_lin_1)\n",
    "        # Second Linear Combination\n",
    "        comb_lin_2 = self.layer2(out_1)\n",
    "        out_2 = self.ft2(comb_lin_2)\n",
    "        return out_2"
   ]
  },
  {
   "cell_type": "code",
   "execution_count": 51,
   "metadata": {},
   "outputs": [],
   "source": [
    "# Selection of a loss function\n",
    "criterion_MLP = torch.nn.BCEWithLogitsLoss()"
   ]
  },
  {
   "cell_type": "code",
   "execution_count": 52,
   "metadata": {},
   "outputs": [],
   "source": [
    "# Creation of the MLP\n",
    "mlp = MLP(19, 10)"
   ]
  },
  {
   "cell_type": "code",
   "execution_count": 53,
   "metadata": {},
   "outputs": [],
   "source": [
    "# Selection of an optimizer of loss\n",
    "optim_mlp = torch.optim.Adam(mlp.parameters())"
   ]
  },
  {
   "cell_type": "markdown",
   "metadata": {},
   "source": [
    "#### Training"
   ]
  },
  {
   "cell_type": "code",
   "execution_count": 54,
   "metadata": {},
   "outputs": [],
   "source": [
    "pertes_mlp = train_session(tensor_ZTrain,tensor_yTrain,mlp,criterion_MLP,optim_mlp)"
   ]
  },
  {
   "cell_type": "code",
   "execution_count": 55,
   "metadata": {},
   "outputs": [
    {
     "data": {
      "text/plain": [
       "Text(0, 0.5, 'Loss')"
      ]
     },
     "execution_count": 55,
     "metadata": {},
     "output_type": "execute_result"
    },
    {
     "data": {
      "image/png": "[encoded data removed]",
      "text/plain": [
       "<Figure size 720x720 with 1 Axes>"
      ]
     },
     "metadata": {
      "needs_background": "light"
     },
     "output_type": "display_data"
    }
   ],
   "source": [
    "plt.plot(np.arange(0,pertes.shape[0]),pertes) \n",
    "plt.title(\"Evolution of the Loss Function\") \n",
    "plt.xlabel(\"Epochs\")\n",
    "plt.ylabel(\"Loss\")"
   ]
  },
  {
   "cell_type": "markdown",
   "metadata": {},
   "source": [
    "#### Prediction"
   ]
  },
  {
   "cell_type": "code",
   "execution_count": 56,
   "metadata": {},
   "outputs": [],
   "source": [
    "proba,mc,acc, y_pred = test_session(tensor_ZTest,tensor_yTest,mlp)"
   ]
  },
  {
   "cell_type": "markdown",
   "metadata": {},
   "source": [
    "#### Statistics"
   ]
  },
  {
   "cell_type": "code",
   "execution_count": 57,
   "metadata": {},
   "outputs": [
    {
     "name": "stdout",
     "output_type": "stream",
     "text": [
      "              precision    recall  f1-score   support\n",
      "\n",
      "           0       0.86      1.00      0.93       957\n",
      "           1       0.00      0.00      0.00       154\n",
      "\n",
      "    accuracy                           0.86      1111\n",
      "   macro avg       0.43      0.50      0.46      1111\n",
      "weighted avg       0.74      0.86      0.80      1111\n",
      "\n"
     ]
    },
    {
     "name": "stderr",
     "output_type": "stream",
     "text": [
      "/Users/aurelienpayet/opt/miniconda3/lib/python3.8/site-packages/sklearn/metrics/_classification.py:1221: UndefinedMetricWarning: Precision and F-score are ill-defined and being set to 0.0 in labels with no predicted samples. Use `zero_division` parameter to control this behavior.\n",
      "  _warn_prf(average, modifier, msg_start, len(result))\n"
     ]
    }
   ],
   "source": [
    "print(metrics.classification_report(y_test,y_pred))"
   ]
  },
  {
   "cell_type": "code",
   "execution_count": 58,
   "metadata": {},
   "outputs": [
    {
     "name": "stdout",
     "output_type": "stream",
     "text": [
      "[[957   0]\n",
      " [154   0]]\n"
     ]
    }
   ],
   "source": [
    "print(mc)"
   ]
  },
  {
   "cell_type": "markdown",
   "metadata": {},
   "source": [
    "#### Network Parameters"
   ]
  },
  {
   "cell_type": "code",
   "execution_count": 59,
   "metadata": {},
   "outputs": [
    {
     "name": "stdout",
     "output_type": "stream",
     "text": [
      "Parameter containing:\n",
      "tensor([[-10.4530,  10.4194, -10.4332, -10.4781,  10.1053,   9.9865, -10.2360,\n",
      "          10.4749, -10.2552,  10.4146,   9.5055,  10.3207, -10.0142, -10.4334,\n",
      "          -9.7597, -10.1585,  10.4279,  -9.7448,  10.7364],\n",
      "        [ 10.3967,  10.3908, -10.4837, -10.2140, -10.4954, -10.3241, -10.0347,\n",
      "         -10.3986, -10.3450, -10.2635,   9.9390, -10.3887,   8.8425,  10.2065,\n",
      "           8.9442, -10.1003,  10.3544,  -9.9244, -10.1530],\n",
      "        [-10.4599, -10.3853,  10.4450, -10.2789,  10.1712,  10.1874,  10.5004,\n",
      "          10.4125,  10.3517,  10.0476,  10.1231,  10.3554, -10.2721,  10.4009,\n",
      "         -10.0272, -10.1181,  10.3564, -10.3567, -10.0844],\n",
      "        [  9.9615,  10.2006,  10.2201,  10.3453,   9.9053,   9.9231,  -9.9231,\n",
      "          -9.8179,  -9.9702,  -8.7507,   9.9290,  -9.0918,  -9.9798,   9.7727,\n",
      "          -9.7845,  10.0892,  10.0158,   9.8556,  10.1247],\n",
      "        [ 10.0224,  10.1551, -10.0125,   9.8758,   9.9623,   9.9659,   9.9195,\n",
      "           9.9304,   9.8749,   9.9919,  10.4964,   9.9665, -10.0916, -10.0086,\n",
      "          -9.9103,   9.9270,  -9.3077,   9.9877,  10.5111],\n",
      "        [-10.3873, -10.3881,  10.3174, -10.2984,  10.0541,  10.2158, -10.4127,\n",
      "          10.3605, -10.0374, -10.3230,  10.3171, -10.3322, -10.1641, -10.4056,\n",
      "         -10.0271, -10.1251,  10.2450, -10.2415, -10.3773],\n",
      "        [-10.3207, -10.1433,  10.1260,  10.5531,  -9.7833,  -9.6803,  10.5149,\n",
      "          -7.2941,  10.1755, -10.1120,  10.2874, -10.3196,  10.1057,   9.9018,\n",
      "          10.0117,  10.0638,  -9.1897,  10.0368,  10.3842],\n",
      "        [ 10.3573,  10.3431, -10.3831, -10.3112, -10.5269, -10.4214, -10.4621,\n",
      "         -10.4177, -10.4411,  10.4106, -10.4159,  10.2552,  10.3010,   9.5508,\n",
      "          10.6311, -10.2184, -10.1008, -10.1469, -10.4213],\n",
      "        [ 10.5611, -10.5689,  10.3366, -10.4384,  10.1724,  10.1610,  10.5931,\n",
      "          10.5563,  10.5734, -10.5799, -10.2500, -10.3536,   9.7193,  10.0314,\n",
      "           9.9847,  10.5464,  -9.9892,  10.6047, -10.2160],\n",
      "        [-10.4390,  10.3576,  10.4434, -10.3687,  10.3364,  10.1409, -10.5000,\n",
      "         -10.4501, -10.1218,  10.5125, -10.3942,  10.3964,   9.5819, -10.5325,\n",
      "           9.5057,  10.6361, -10.2602,  10.3260, -10.0521]],\n",
      "       requires_grad=True)\n"
     ]
    }
   ],
   "source": [
    "print(mlp.layer1.weight)"
   ]
  },
  {
   "cell_type": "code",
   "execution_count": 60,
   "metadata": {
    "scrolled": true
   },
   "outputs": [
    {
     "name": "stdout",
     "output_type": "stream",
     "text": [
      "Parameter containing:\n",
      "tensor([ 10.3919,  10.4841,  10.4614,  -9.8922, -10.1742,  10.0928,  -9.6417,\n",
      "         10.3995,  10.4482,  10.3264], requires_grad=True)\n"
     ]
    }
   ],
   "source": [
    "print(mlp.layer1.bias)"
   ]
  },
  {
   "cell_type": "markdown",
   "metadata": {},
   "source": [
    "**Essayer de trouver les paramètres de tuning pour ses algos + essayer d'automatiser au max, par exemple les valeurs des couches d'entrée + bon modèle pour les RN multicouches. Voir pour ajout affichage loss.**"
   ]
  },
  {
   "cell_type": "markdown",
   "metadata": {},
   "source": [
    "# Test"
   ]
  },
  {
   "cell_type": "code",
   "execution_count": null,
   "metadata": {},
   "outputs": [],
   "source": []
  },
  {
   "cell_type": "code",
   "execution_count": null,
   "metadata": {},
   "outputs": [],
   "source": []
  },
  {
   "cell_type": "code",
   "execution_count": null,
   "metadata": {},
   "outputs": [],
   "source": []
  },
  {
   "cell_type": "code",
   "execution_count": null,
   "metadata": {},
   "outputs": [],
   "source": []
  },
  {
   "cell_type": "code",
   "execution_count": null,
   "metadata": {},
   "outputs": [],
   "source": []
  },
  {
   "cell_type": "code",
   "execution_count": null,
   "metadata": {},
   "outputs": [],
   "source": []
  },
  {
   "cell_type": "code",
   "execution_count": null,
   "metadata": {},
   "outputs": [],
   "source": []
  }
 ],
 "metadata": {
  "kernelspec": {
   "display_name": "Python 3",
   "language": "python",
   "name": "python3"
  },
  "language_info": {
   "codemirror_mode": {
    "name": "ipython",
    "version": 3
   },
   "file_extension": ".py",
   "mimetype": "text/x-python",
   "name": "python",
   "nbconvert_exporter": "python",
   "pygments_lexer": "ipython3",
   "version": "3.8.3"
  }
 },
 "nbformat": 4,
 "nbformat_minor": 4
}
